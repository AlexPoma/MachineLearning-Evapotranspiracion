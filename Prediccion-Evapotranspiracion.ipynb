{
 "cells": [
  {
   "cell_type": "markdown",
   "metadata": {},
   "source": [
    "# Predicción-Evapotranspiracion\n",
    "\n",
    "https://github.com/pabsaura/MachineLearning-Evapotranspiracion\n",
    "\n",
    "Author: Pablo Saura "
   ]
  },
  {
   "cell_type": "markdown",
   "metadata": {},
   "source": [
    "\n",
    "# Entender el caso de negocio"
   ]
  },
  {
   "cell_type": "markdown",
   "metadata": {},
   "source": [
    "** En este caso el objetivo es ser capaz de dar una prescripcion de riego adecuada a una zona geografica concreta. Esta información es muy útil para los agricultores, saber la cantidad exacta de agua que deben usar repercute en menos gastos por riego y maximización de la recolección.**\n",
    "\n",
    "**En concreto el principal foco de este trabajo es el de obtener valores futuros para el valor de la [evapotranspiración](https://es.wikipedia.org/wiki/Evapotranspiración), la cual se define como, la pérdida de humedad de una superficie por evaporación directa junto con la pérdida de agua por transpiración de la vegetación. Este valor es importante para conocer las necesidades hídricas de las plantas y poder actuar de forma óptima.**\n",
    "\n",
    "**Para ello vamos a utilizar variables climáticas obtenidas de estaciones meteorológicas y con ellas crear un programa capaz de predecir el valor deseado.**"
   ]
  },
  {
   "cell_type": "markdown",
   "metadata": {},
   "source": [
    "\n",
    "\n",
    "# Predicción Evapotraspiración "
   ]
  },
  {
   "cell_type": "code",
   "execution_count": 1,
   "metadata": {},
   "outputs": [],
   "source": [
    "import pandas as pd\n",
    "import numpy as np\n",
    "import matplotlib.pylab as plt\n",
    "import seaborn as sns\n",
    "from sklearn.model_selection import train_test_split\n",
    "from sklearn import datasets, linear_model\n",
    "from sklearn.metrics import mean_squared_error, r2_score\n",
    "from sklearn import preprocessing\n",
    "from math import sqrt\n",
    "from datetime import datetime\n",
    "%matplotlib inline\n",
    "from matplotlib.pylab import rcParams\n",
    "rcParams['figure.figsize'] = 15, 6\n",
    "def standarizar_df(df_combinado):\n",
    "    \"\"\"\n",
    "    \"\"\"\n",
    "    from sklearn import preprocessing\n",
    "    std_scale = preprocessing.StandardScaler().fit(df_combinado)\n",
    "    df_std = std_scale.transform(df_combinado)\n",
    "    return df_std\n"
   ]
  },
  {
   "cell_type": "markdown",
   "metadata": {},
   "source": [
    "### Entender el Dato"
   ]
  },
  {
   "cell_type": "code",
   "execution_count": 2,
   "metadata": {},
   "outputs": [
    {
     "data": {
      "text/html": [
       "<div>\n",
       "<style scoped>\n",
       "    .dataframe tbody tr th:only-of-type {\n",
       "        vertical-align: middle;\n",
       "    }\n",
       "\n",
       "    .dataframe tbody tr th {\n",
       "        vertical-align: top;\n",
       "    }\n",
       "\n",
       "    .dataframe thead th {\n",
       "        text-align: right;\n",
       "    }\n",
       "</style>\n",
       "<table border=\"1\" class=\"dataframe\">\n",
       "  <thead>\n",
       "    <tr style=\"text-align: right;\">\n",
       "      <th></th>\n",
       "      <th>IdProvincia</th>\n",
       "      <th>IdEstacion</th>\n",
       "      <th>Fecha</th>\n",
       "      <th>Año</th>\n",
       "      <th>Dia</th>\n",
       "      <th>Temp Media (ºC)</th>\n",
       "      <th>Temp Max (ºC)</th>\n",
       "      <th>Temp Mínima (ºC)</th>\n",
       "      <th>Humedad Media (%)</th>\n",
       "      <th>Humedad Max (%)</th>\n",
       "      <th>Humedad Min (%)</th>\n",
       "      <th>Radiación (MJ/m2)</th>\n",
       "      <th>Precipitación (mm)</th>\n",
       "      <th>PePMon</th>\n",
       "      <th>EtPMon</th>\n",
       "    </tr>\n",
       "  </thead>\n",
       "  <tbody>\n",
       "    <tr>\n",
       "      <th>6254</th>\n",
       "      <td>45</td>\n",
       "      <td>4</td>\n",
       "      <td>12/03/2018</td>\n",
       "      <td>2018</td>\n",
       "      <td>71</td>\n",
       "      <td>8,07</td>\n",
       "      <td>11,38</td>\n",
       "      <td>6,01</td>\n",
       "      <td>73,1</td>\n",
       "      <td>89,7</td>\n",
       "      <td>53,64</td>\n",
       "      <td>13,97</td>\n",
       "      <td>0,2</td>\n",
       "      <td>0</td>\n",
       "      <td>2,29</td>\n",
       "    </tr>\n",
       "    <tr>\n",
       "      <th>6255</th>\n",
       "      <td>45</td>\n",
       "      <td>4</td>\n",
       "      <td>13/03/2018</td>\n",
       "      <td>2018</td>\n",
       "      <td>72</td>\n",
       "      <td>9,74</td>\n",
       "      <td>14,1</td>\n",
       "      <td>5,67</td>\n",
       "      <td>82,5</td>\n",
       "      <td>98,6</td>\n",
       "      <td>65,09</td>\n",
       "      <td>12,82</td>\n",
       "      <td>1,37</td>\n",
       "      <td>0</td>\n",
       "      <td>1,86</td>\n",
       "    </tr>\n",
       "    <tr>\n",
       "      <th>6256</th>\n",
       "      <td>45</td>\n",
       "      <td>4</td>\n",
       "      <td>14/03/2018</td>\n",
       "      <td>2018</td>\n",
       "      <td>73</td>\n",
       "      <td>9,67</td>\n",
       "      <td>12,85</td>\n",
       "      <td>5,6</td>\n",
       "      <td>87,6</td>\n",
       "      <td>96,4</td>\n",
       "      <td>79,2</td>\n",
       "      <td>5,98</td>\n",
       "      <td>16,86</td>\n",
       "      <td>10,28</td>\n",
       "      <td>1,27</td>\n",
       "    </tr>\n",
       "    <tr>\n",
       "      <th>6257</th>\n",
       "      <td>45</td>\n",
       "      <td>4</td>\n",
       "      <td>15/03/2018</td>\n",
       "      <td>2018</td>\n",
       "      <td>74</td>\n",
       "      <td>7,2</td>\n",
       "      <td>10,91</td>\n",
       "      <td>4,67</td>\n",
       "      <td>80,3</td>\n",
       "      <td>95,2</td>\n",
       "      <td>60,04</td>\n",
       "      <td>13,09</td>\n",
       "      <td>1,47</td>\n",
       "      <td>0</td>\n",
       "      <td>1,94</td>\n",
       "    </tr>\n",
       "    <tr>\n",
       "      <th>6258</th>\n",
       "      <td>45</td>\n",
       "      <td>4</td>\n",
       "      <td>16/03/2018</td>\n",
       "      <td>2018</td>\n",
       "      <td>75</td>\n",
       "      <td>5,66</td>\n",
       "      <td>9,46</td>\n",
       "      <td>3,22</td>\n",
       "      <td>78,7</td>\n",
       "      <td>91,6</td>\n",
       "      <td>54,86</td>\n",
       "      <td>13,21</td>\n",
       "      <td>0,69</td>\n",
       "      <td>0</td>\n",
       "      <td>1,93</td>\n",
       "    </tr>\n",
       "  </tbody>\n",
       "</table>\n",
       "</div>"
      ],
      "text/plain": [
       "      IdProvincia  IdEstacion       Fecha   Año  Dia Temp Media (ºC)  \\\n",
       "6254           45           4  12/03/2018  2018   71            8,07   \n",
       "6255           45           4  13/03/2018  2018   72            9,74   \n",
       "6256           45           4  14/03/2018  2018   73            9,67   \n",
       "6257           45           4  15/03/2018  2018   74             7,2   \n",
       "6258           45           4  16/03/2018  2018   75            5,66   \n",
       "\n",
       "     Temp Max (ºC) Temp Mínima (ºC) Humedad Media (%) Humedad Max (%)  \\\n",
       "6254         11,38             6,01              73,1            89,7   \n",
       "6255          14,1             5,67              82,5            98,6   \n",
       "6256         12,85              5,6              87,6            96,4   \n",
       "6257         10,91             4,67              80,3            95,2   \n",
       "6258          9,46             3,22              78,7            91,6   \n",
       "\n",
       "     Humedad Min (%) Radiación (MJ/m2) Precipitación (mm) PePMon EtPMon  \n",
       "6254           53,64             13,97                0,2      0   2,29  \n",
       "6255           65,09             12,82               1,37      0   1,86  \n",
       "6256            79,2              5,98              16,86  10,28   1,27  \n",
       "6257           60,04             13,09               1,47      0   1,94  \n",
       "6258           54,86             13,21               0,69      0   1,93  "
      ]
     },
     "execution_count": 2,
     "metadata": {},
     "output_type": "execute_result"
    }
   ],
   "source": [
    "#data = pd.read_csv('losnavalmoralesFull.csv',sep=';',encoding='utf_16_le' ) #Version que se actualiza cada dia. \n",
    "data = pd.read_csv('losnavalmorales.csv',sep=';',encoding='utf_16_le' )  #Version con datos sin tratar, comentar el de arriba\n",
    "data.tail(5)"
   ]
  },
  {
   "cell_type": "markdown",
   "metadata": {},
   "source": [
    " Este es el dataset que se obtiene al descargar directamente y sin tratar,  por ello vamos a realizar la limpieza y preparación de los datos."
   ]
  },
  {
   "cell_type": "code",
   "execution_count": 3,
   "metadata": {},
   "outputs": [
    {
     "data": {
      "text/plain": [
       "Fecha                 datetime64[ns]\n",
       "Temp Media (ºC)              float64\n",
       "Temp Max (ºC)                float64\n",
       "Temp Mínima (ºC)             float64\n",
       "Humedad Media (%)            float64\n",
       "Humedad Max (%)              float64\n",
       "Humedad Min (%)              float64\n",
       "Radiación (MJ/m2)            float64\n",
       "Precipitación (mm)           float64\n",
       "PePMon                       float64\n",
       "EtPMon                       float64\n",
       "dtype: object"
      ]
     },
     "execution_count": 3,
     "metadata": {},
     "output_type": "execute_result"
    }
   ],
   "source": [
    "#data['Fecha']= pd.to_datetime(data.Fecha, format='%Y/%m/%d') #Descomentar para tratar la fecha del 'losnavalmoralesFull'\n",
    "data =data.drop([\"IdProvincia\",\"IdEstacion\",\"Año\",\"Dia\"],axis=1); # Version con datos sin tratar, descomentar.\n",
    "data['Fecha']= pd.to_datetime(data.Fecha, format='%d/%m/%Y')\n",
    "cols = data.columns[data.dtypes.eq('object')]\n",
    "for i in cols:\n",
    "    data[i] = pd.to_numeric(data[i].str.replace(',', '.'))\n",
    "data.dtypes    "
   ]
  },
  {
   "cell_type": "markdown",
   "metadata": {},
   "source": [
    "Quitamos los datos que no nos aportan información como son \"IdProvincia\",\"IdEstacion\" y \"Año\",\"Dia\", ya que la fecha la tenemos representada en el valor con mismo nombre. Transformamos los atributos al tipo que corresponde, la fecha a tipo ***datetime*** y los demas valores a ***Float***, ya que al leerlos con ***pd.read_csv*** los toma como strings.\n",
    "\n",
    "En las siguintes celdas imprimimos si hay valores nulos, los completamos con el valor anterior y cambiamos el indice del ***dataframe*** para que sean las fechas."
   ]
  },
  {
   "cell_type": "code",
   "execution_count": 4,
   "metadata": {},
   "outputs": [
    {
     "name": "stdout",
     "output_type": "stream",
     "text": [
      "(6259, 11)\n"
     ]
    },
    {
     "data": {
      "text/plain": [
       "Fecha                  0\n",
       "Temp Media (ºC)       17\n",
       "Temp Max (ºC)         27\n",
       "Temp Mínima (ºC)      24\n",
       "Humedad Media (%)     31\n",
       "Humedad Max (%)       61\n",
       "Humedad Min (%)       59\n",
       "Radiación (MJ/m2)     15\n",
       "Precipitación (mm)    21\n",
       "PePMon                69\n",
       "EtPMon                69\n",
       "dtype: int64"
      ]
     },
     "execution_count": 4,
     "metadata": {},
     "output_type": "execute_result"
    }
   ],
   "source": [
    "print(data.shape)\n",
    "data.isnull().sum() # Buscamos si hay valores nulos"
   ]
  },
  {
   "cell_type": "code",
   "execution_count": 5,
   "metadata": {},
   "outputs": [
    {
     "data": {
      "text/plain": [
       "Fecha                 0\n",
       "Temp Media (ºC)       0\n",
       "Temp Max (ºC)         0\n",
       "Temp Mínima (ºC)      0\n",
       "Humedad Media (%)     0\n",
       "Humedad Max (%)       0\n",
       "Humedad Min (%)       0\n",
       "Radiación (MJ/m2)     0\n",
       "Precipitación (mm)    0\n",
       "PePMon                0\n",
       "EtPMon                0\n",
       "dtype: int64"
      ]
     },
     "execution_count": 5,
     "metadata": {},
     "output_type": "execute_result"
    }
   ],
   "source": [
    "data = data.fillna(method='ffill') # En el caso en que haya valores nulos los rellenamos con el valor anterior.\n",
    "data.isnull().sum()"
   ]
  },
  {
   "cell_type": "code",
   "execution_count": 6,
   "metadata": {},
   "outputs": [],
   "source": [
    "data = data.set_index('Fecha'); # Cambiar el indice por las fechas."
   ]
  },
  {
   "cell_type": "code",
   "execution_count": 7,
   "metadata": {},
   "outputs": [
    {
     "name": "stdout",
     "output_type": "stream",
     "text": [
      "0.0\n",
      "10.13\n",
      "3.73966927624\n"
     ]
    }
   ],
   "source": [
    "print(min(data[\"EtPMon\"]))\n",
    "print(max(data[\"EtPMon\"]))\n",
    "print(data[\"EtPMon\"].values.mean())"
   ]
  },
  {
   "cell_type": "code",
   "execution_count": 8,
   "metadata": {},
   "outputs": [
    {
     "data": {
      "image/png": "[encoded data removed]",
      "text/plain": [
       "<Figure size 432x288 with 2 Axes>"
      ]
     },
     "metadata": {},
     "output_type": "display_data"
    }
   ],
   "source": [
    "\n",
    "corr = data.corr()\n",
    "sns.heatmap(corr, \n",
    "            xticklabels=corr.columns.values,\n",
    "            yticklabels=corr.columns.values);"
   ]
  },
  {
   "cell_type": "markdown",
   "metadata": {},
   "source": [
    "Mediante esta matriz de correlación podemos ver como se afectan las variables unas con otras, esta claro que variables relacionadas entre si como temperaturas y humedades cuentan con una gran correlación entre si, de igual manera temperaturas y humedades enfrentadas unas a otras vemos que tiene una correlacion pero a la inversa. Como también podiamos pensar la precipitación y la humedad tienen una alta correlación.\n",
    "\n",
    "Seguimos con una gráfica de los valores que toma en la muestra la evapotranspiración, vemos que la muestra esta un poco desbalanceada."
   ]
  },
  {
   "cell_type": "code",
   "execution_count": 9,
   "metadata": {},
   "outputs": [
    {
     "name": "stderr",
     "output_type": "stream",
     "text": [
      "C:\\Users\\Pablo\\Anaconda3\\lib\\site-packages\\matplotlib\\axes\\_axes.py:6462: UserWarning: The 'normed' kwarg is deprecated, and has been replaced by the 'density' kwarg.\n",
      "  warnings.warn(\"The 'normed' kwarg is deprecated, and has been \"\n"
     ]
    },
    {
     "data": {
      "image/png": "[encoded data removed]",
      "text/plain": [
       "<Figure size 432x288 with 1 Axes>"
      ]
     },
     "metadata": {},
     "output_type": "display_data"
    }
   ],
   "source": [
    "sns.distplot(data[\"EtPMon\"]);"
   ]
  },
  {
   "cell_type": "code",
   "execution_count": 10,
   "metadata": {},
   "outputs": [
    {
     "name": "stderr",
     "output_type": "stream",
     "text": [
      "C:\\Users\\Pablo\\Anaconda3\\lib\\site-packages\\matplotlib\\axes\\_axes.py:6462: UserWarning: The 'normed' kwarg is deprecated, and has been replaced by the 'density' kwarg.\n",
      "  warnings.warn(\"The 'normed' kwarg is deprecated, and has been \"\n"
     ]
    },
    {
     "data": {
      "image/png": "[encoded data removed]",
      "text/plain": [
       "<Figure size 432x288 with 1 Axes>"
      ]
     },
     "metadata": {},
     "output_type": "display_data"
    }
   ],
   "source": [
    "# Datos de la evapotranspiracion normalizados\n",
    "normalized = data[\"EtPMon\"]\n",
    "a =preprocessing.normalize(normalized.values.reshape(-1,1))\n",
    "sns.distplot(a);"
   ]
  },
  {
   "cell_type": "markdown",
   "metadata": {},
   "source": [
    "Vemos que normalizando los datos se nos quedan los valores demasiado en los extremos. Por tanto no es una buena aproximación."
   ]
  },
  {
   "cell_type": "code",
   "execution_count": 11,
   "metadata": {},
   "outputs": [
    {
     "name": "stderr",
     "output_type": "stream",
     "text": [
      "C:\\Users\\Pablo\\Anaconda3\\lib\\site-packages\\matplotlib\\axes\\_axes.py:6462: UserWarning: The 'normed' kwarg is deprecated, and has been replaced by the 'density' kwarg.\n",
      "  warnings.warn(\"The 'normed' kwarg is deprecated, and has been \"\n"
     ]
    },
    {
     "data": {
      "image/png": "[encoded data removed]",
      "text/plain": [
       "<Figure size 432x288 with 1 Axes>"
      ]
     },
     "metadata": {},
     "output_type": "display_data"
    }
   ],
   "source": [
    "#Datos de la evapotranspiracion standarizados\n",
    "normalized = data[\"EtPMon\"]\n",
    "a =standarizar_df(normalized.values.reshape(-1,1))\n",
    "sns.distplot(a);"
   ]
  },
  {
   "cell_type": "markdown",
   "metadata": {},
   "source": [
    "En cambio al estandarizar ponemos la media de los valores en 0(media=3,73), la proporción se mantiene a la original."
   ]
  },
  {
   "cell_type": "markdown",
   "metadata": {},
   "source": [
    "Podemos poner graficamente como varia la evapotranspiración en fucnion de otras variables para entender de mejor manera los datos:"
   ]
  },
  {
   "cell_type": "code",
   "execution_count": 12,
   "metadata": {},
   "outputs": [
    {
     "data": {
      "image/png": "[encoded data removed]",
      "text/plain": [
       "<Figure size 432x288 with 1 Axes>"
      ]
     },
     "metadata": {},
     "output_type": "display_data"
    }
   ],
   "source": [
    "import matplotlib.pyplot as plt\n",
    "plt.plot(data['EtPMon'])\n",
    "plt.plot(data['Temp Media (ºC)'])\n",
    "plt.ylabel('')\n",
    "plt.show()"
   ]
  },
  {
   "cell_type": "code",
   "execution_count": 13,
   "metadata": {},
   "outputs": [
    {
     "data": {
      "image/png": "[encoded data removed]",
      "text/plain": [
       "<Figure size 432x288 with 1 Axes>"
      ]
     },
     "metadata": {},
     "output_type": "display_data"
    }
   ],
   "source": [
    "import matplotlib.pyplot as plt\n",
    "plt.plot(data['EtPMon'])\n",
    "plt.plot(data['Humedad Media (%)'])\n",
    "plt.ylabel('')\n",
    "plt.show()"
   ]
  },
  {
   "cell_type": "code",
   "execution_count": 14,
   "metadata": {},
   "outputs": [
    {
     "data": {
      "image/png": "[encoded data removed]",
      "text/plain": [
       "<Figure size 432x288 with 1 Axes>"
      ]
     },
     "metadata": {},
     "output_type": "display_data"
    }
   ],
   "source": [
    "import matplotlib.pyplot as plt\n",
    "plt.plot(data['EtPMon'][3500:])\n",
    "plt.plot(data['Precipitación (mm)'][3500:])\n",
    "plt.ylabel('')\n",
    "plt.show()"
   ]
  },
  {
   "cell_type": "markdown",
   "metadata": {},
   "source": [
    "## Separación training-test"
   ]
  },
  {
   "cell_type": "markdown",
   "metadata": {},
   "source": [
    "Mediante la función de la librería scikit-learn podemos crear las muestras para entrenamiento y test que despues pasaremos a los modelos"
   ]
  },
  {
   "cell_type": "code",
   "execution_count": 15,
   "metadata": {},
   "outputs": [],
   "source": [
    "labels=data[\"EtPMon\"]\n",
    "dataAll=data.copy()\n",
    "data =data.drop([\"EtPMon\"],axis=1);\n",
    "X_train,X_test,Y_train,Y_test = train_test_split(data,labels,test_size=0.20,random_state=20)"
   ]
  },
  {
   "cell_type": "code",
   "execution_count": 16,
   "metadata": {},
   "outputs": [
    {
     "data": {
      "text/html": [
       "<div>\n",
       "<style scoped>\n",
       "    .dataframe tbody tr th:only-of-type {\n",
       "        vertical-align: middle;\n",
       "    }\n",
       "\n",
       "    .dataframe tbody tr th {\n",
       "        vertical-align: top;\n",
       "    }\n",
       "\n",
       "    .dataframe thead th {\n",
       "        text-align: right;\n",
       "    }\n",
       "</style>\n",
       "<table border=\"1\" class=\"dataframe\">\n",
       "  <thead>\n",
       "    <tr style=\"text-align: right;\">\n",
       "      <th></th>\n",
       "      <th>Temp Media (ºC)</th>\n",
       "      <th>Temp Max (ºC)</th>\n",
       "      <th>Temp Mínima (ºC)</th>\n",
       "      <th>Humedad Media (%)</th>\n",
       "      <th>Humedad Max (%)</th>\n",
       "      <th>Humedad Min (%)</th>\n",
       "      <th>Radiación (MJ/m2)</th>\n",
       "      <th>Precipitación (mm)</th>\n",
       "      <th>PePMon</th>\n",
       "    </tr>\n",
       "    <tr>\n",
       "      <th>Fecha</th>\n",
       "      <th></th>\n",
       "      <th></th>\n",
       "      <th></th>\n",
       "      <th></th>\n",
       "      <th></th>\n",
       "      <th></th>\n",
       "      <th></th>\n",
       "      <th></th>\n",
       "      <th></th>\n",
       "    </tr>\n",
       "  </thead>\n",
       "  <tbody>\n",
       "    <tr>\n",
       "      <th>2001-01-01</th>\n",
       "      <td>9.36</td>\n",
       "      <td>11.89</td>\n",
       "      <td>7.64</td>\n",
       "      <td>86.0</td>\n",
       "      <td>95.9</td>\n",
       "      <td>77.70</td>\n",
       "      <td>3.77</td>\n",
       "      <td>6.8</td>\n",
       "      <td>3.26</td>\n",
       "    </tr>\n",
       "    <tr>\n",
       "      <th>2001-01-02</th>\n",
       "      <td>7.78</td>\n",
       "      <td>10.22</td>\n",
       "      <td>6.11</td>\n",
       "      <td>78.8</td>\n",
       "      <td>92.8</td>\n",
       "      <td>62.15</td>\n",
       "      <td>6.92</td>\n",
       "      <td>7.2</td>\n",
       "      <td>3.56</td>\n",
       "    </tr>\n",
       "    <tr>\n",
       "      <th>2001-01-03</th>\n",
       "      <td>7.90</td>\n",
       "      <td>9.70</td>\n",
       "      <td>6.18</td>\n",
       "      <td>82.3</td>\n",
       "      <td>90.3</td>\n",
       "      <td>72.50</td>\n",
       "      <td>3.77</td>\n",
       "      <td>3.4</td>\n",
       "      <td>0.52</td>\n",
       "    </tr>\n",
       "    <tr>\n",
       "      <th>2001-01-04</th>\n",
       "      <td>10.25</td>\n",
       "      <td>12.36</td>\n",
       "      <td>8.69</td>\n",
       "      <td>76.3</td>\n",
       "      <td>88.5</td>\n",
       "      <td>63.95</td>\n",
       "      <td>6.32</td>\n",
       "      <td>0.0</td>\n",
       "      <td>0.00</td>\n",
       "    </tr>\n",
       "    <tr>\n",
       "      <th>2001-01-05</th>\n",
       "      <td>13.12</td>\n",
       "      <td>15.54</td>\n",
       "      <td>8.83</td>\n",
       "      <td>85.7</td>\n",
       "      <td>94.9</td>\n",
       "      <td>77.90</td>\n",
       "      <td>3.75</td>\n",
       "      <td>4.6</td>\n",
       "      <td>1.52</td>\n",
       "    </tr>\n",
       "  </tbody>\n",
       "</table>\n",
       "</div>"
      ],
      "text/plain": [
       "            Temp Media (ºC)  Temp Max (ºC)  Temp Mínima (ºC)  \\\n",
       "Fecha                                                          \n",
       "2001-01-01             9.36          11.89              7.64   \n",
       "2001-01-02             7.78          10.22              6.11   \n",
       "2001-01-03             7.90           9.70              6.18   \n",
       "2001-01-04            10.25          12.36              8.69   \n",
       "2001-01-05            13.12          15.54              8.83   \n",
       "\n",
       "            Humedad Media (%)  Humedad Max (%)  Humedad Min (%)  \\\n",
       "Fecha                                                             \n",
       "2001-01-01               86.0             95.9            77.70   \n",
       "2001-01-02               78.8             92.8            62.15   \n",
       "2001-01-03               82.3             90.3            72.50   \n",
       "2001-01-04               76.3             88.5            63.95   \n",
       "2001-01-05               85.7             94.9            77.90   \n",
       "\n",
       "            Radiación (MJ/m2)  Precipitación (mm)  PePMon  \n",
       "Fecha                                                      \n",
       "2001-01-01               3.77                 6.8    3.26  \n",
       "2001-01-02               6.92                 7.2    3.56  \n",
       "2001-01-03               3.77                 3.4    0.52  \n",
       "2001-01-04               6.32                 0.0    0.00  \n",
       "2001-01-05               3.75                 4.6    1.52  "
      ]
     },
     "execution_count": 16,
     "metadata": {},
     "output_type": "execute_result"
    }
   ],
   "source": [
    "data.head(5)"
   ]
  },
  {
   "cell_type": "markdown",
   "metadata": {},
   "source": [
    "## Primer modelo: Regresión Lineal"
   ]
  },
  {
   "cell_type": "markdown",
   "metadata": {},
   "source": [
    "El primer modelo que vamos a crear es el de regresión lineal"
   ]
  },
  {
   "cell_type": "code",
   "execution_count": 17,
   "metadata": {},
   "outputs": [],
   "source": [
    "regr = linear_model.LinearRegression()\n",
    "regr.fit(X_train, Y_train);"
   ]
  },
  {
   "cell_type": "code",
   "execution_count": 18,
   "metadata": {},
   "outputs": [],
   "source": [
    "prediction = regr.predict(X_test)"
   ]
  },
  {
   "cell_type": "code",
   "execution_count": 19,
   "metadata": {},
   "outputs": [
    {
     "name": "stdout",
     "output_type": "stream",
     "text": [
      "Coefficients: \n",
      " [ 0.02351795  0.02944625  0.07065135 -0.02510693  0.0007251   0.0025977\n",
      "  0.14838745  0.19778249 -0.28731524]\n"
     ]
    }
   ],
   "source": [
    "print('Coefficients: \\n', regr.coef_)"
   ]
  },
  {
   "cell_type": "code",
   "execution_count": 20,
   "metadata": {},
   "outputs": [
    {
     "name": "stdout",
     "output_type": "stream",
     "text": [
      "Root Mean squared error: 0.55\n"
     ]
    }
   ],
   "source": [
    "print(\"Root Mean squared error: %.2f\"\n",
    "      % sqrt(mean_squared_error(Y_test, prediction)))"
   ]
  },
  {
   "cell_type": "code",
   "execution_count": 21,
   "metadata": {
    "scrolled": true
   },
   "outputs": [
    {
     "name": "stdout",
     "output_type": "stream",
     "text": [
      "Variance score: 0.95\n"
     ]
    }
   ],
   "source": [
    "print('Variance score: %.2f' % r2_score(Y_test, prediction))"
   ]
  },
  {
   "cell_type": "code",
   "execution_count": 22,
   "metadata": {},
   "outputs": [
    {
     "data": {
      "text/plain": [
       "Fecha\n",
       "2017-01-09    1.32\n",
       "2006-09-11    5.35\n",
       "2010-07-11    8.19\n",
       "2001-12-06    0.56\n",
       "2010-12-17    0.97\n",
       "2002-03-01    1.98\n",
       "2016-10-07    4.14\n",
       "2012-11-02    1.88\n",
       "2014-09-30    3.32\n",
       "2001-09-12    5.31\n",
       "Name: EtPMon, dtype: float64"
      ]
     },
     "execution_count": 22,
     "metadata": {},
     "output_type": "execute_result"
    }
   ],
   "source": [
    "aux=Y_test[:10]\n",
    "Y_test[:10]"
   ]
  },
  {
   "cell_type": "code",
   "execution_count": 23,
   "metadata": {},
   "outputs": [
    {
     "data": {
      "text/plain": [
       "array([ 1.91797581,  5.62152796,  7.96945251,  1.54844811,  1.31587586,\n",
       "        2.07937472,  5.34859495,  2.33213047,  4.25268386,  5.75878186])"
      ]
     },
     "execution_count": 23,
     "metadata": {},
     "output_type": "execute_result"
    }
   ],
   "source": [
    "prediction[:10]"
   ]
  },
  {
   "cell_type": "code",
   "execution_count": 24,
   "metadata": {},
   "outputs": [],
   "source": [
    "aux=aux.reset_index()\n",
    "aux= aux.drop(['Fecha'],axis=1)\n"
   ]
  },
  {
   "cell_type": "code",
   "execution_count": 25,
   "metadata": {},
   "outputs": [
    {
     "data": {
      "image/png": "[encoded data removed]",
      "text/plain": [
       "<Figure size 432x288 with 1 Axes>"
      ]
     },
     "metadata": {},
     "output_type": "display_data"
    }
   ],
   "source": [
    "plt.plot(prediction[:10])\n",
    "plt.plot(aux)\n",
    "plt.ylabel('Comparativa Predicción-Test')\n",
    "plt.show()"
   ]
  },
  {
   "cell_type": "markdown",
   "metadata": {},
   "source": [
    "Como vemos obtenemos un RMSE de 0.55 y una varianza del 95%, aunque no son unos datos magnificos nos sirven como primera aproximación para la predicción de los valores. \n",
    "Se han puesto tambien las 10 últimas predicciones para comparar frente al test y ver cuanto es el error."
   ]
  },
  {
   "cell_type": "markdown",
   "metadata": {},
   "source": [
    "## Estandarizando los datos"
   ]
  },
  {
   "cell_type": "code",
   "execution_count": 26,
   "metadata": {},
   "outputs": [],
   "source": [
    "std_X_train = standarizar_df(X_train)\n",
    "std_X_test = standarizar_df(X_test)"
   ]
  },
  {
   "cell_type": "code",
   "execution_count": 27,
   "metadata": {},
   "outputs": [],
   "source": [
    "lm = linear_model.LinearRegression()\n",
    "lm.fit(std_X_train, Y_train)\n",
    "predicted_values = lm.predict(std_X_test)\n"
   ]
  },
  {
   "cell_type": "code",
   "execution_count": 28,
   "metadata": {},
   "outputs": [
    {
     "name": "stdout",
     "output_type": "stream",
     "text": [
      "Root Mean squared error: 0.56\n"
     ]
    }
   ],
   "source": [
    "print(\"Root Mean squared error: %.2f\"\n",
    "      % sqrt(mean_squared_error(Y_test, predicted_values)))"
   ]
  },
  {
   "cell_type": "code",
   "execution_count": 29,
   "metadata": {},
   "outputs": [
    {
     "name": "stdout",
     "output_type": "stream",
     "text": [
      "Variance score: 0.95\n"
     ]
    }
   ],
   "source": [
    "print('Variance score: %.2f' % r2_score(Y_test, prediction))"
   ]
  },
  {
   "cell_type": "markdown",
   "metadata": {},
   "source": [
    "En este ejemplo se usa una función para la estandarización de los datos y vemos que no difiere casi del resultado anterior."
   ]
  },
  {
   "cell_type": "markdown",
   "metadata": {},
   "source": [
    "## CrossValidation"
   ]
  },
  {
   "cell_type": "code",
   "execution_count": 30,
   "metadata": {},
   "outputs": [
    {
     "data": {
      "text/plain": [
       "0.6267493653747079"
      ]
     },
     "execution_count": 30,
     "metadata": {},
     "output_type": "execute_result"
    }
   ],
   "source": [
    "from sklearn.model_selection import cross_val_score, cross_val_predict\n",
    "lm2 = linear_model.LinearRegression()\n",
    "scores = cross_val_score(lm2, data, labels, cv=100,scoring='neg_mean_squared_error')\n",
    "sqrt(- scores.mean())"
   ]
  },
  {
   "cell_type": "markdown",
   "metadata": {},
   "source": [
    "En este ejemplo utilizamos la crossvalidación como método evaluación."
   ]
  },
  {
   "cell_type": "markdown",
   "metadata": {},
   "source": [
    "## Aumentando la dimensionalidad"
   ]
  },
  {
   "cell_type": "markdown",
   "metadata": {},
   "source": [
    "Para este caso se prueba a aumentar las variables teniendo en cuenta hata que días anteriores, y ver si de esra manera se pyuede reducir el error obtenido"
   ]
  },
  {
   "cell_type": "code",
   "execution_count": 31,
   "metadata": {},
   "outputs": [],
   "source": [
    "data2=data.copy()"
   ]
  },
  {
   "cell_type": "code",
   "execution_count": 32,
   "metadata": {},
   "outputs": [],
   "source": [
    "for i in range(6):\n",
    "    data2['Temp Media (ºC)'+str(-i)] = data['Temp Media (ºC)'][i:]\n",
    "    data2['Temp Max (ºC)'+str(-i)] = data['Temp Max (ºC)'][i:]\n",
    "    data2['Temp Mínima (ºC)'+str(-i)] = data['Temp Mínima (ºC)'][i:]\n",
    "    data2['Humedad Media (%)'+str(-i)] = data['Humedad Media (%)'][i:]\n",
    "    data2['Humedad Max (%)'+str(-i)] = data['Humedad Max (%)'][i:]\n",
    "    data2['Humedad Min (%)'+str(-i)] = data['Humedad Min (%)'][i:]\n",
    "    data2['Radiación (MJ/m2)'+str(-i)] = data['Radiación (MJ/m2)'][i:]\n",
    "    data2['Precipitación (mm)'+str(-i)] = data['Precipitación (mm)'][i:]\n",
    "    data2['PePMon'+str(-i)] = data['PePMon'][i:]                                        "
   ]
  },
  {
   "cell_type": "code",
   "execution_count": 33,
   "metadata": {},
   "outputs": [
    {
     "data": {
      "text/html": [
       "<div>\n",
       "<style scoped>\n",
       "    .dataframe tbody tr th:only-of-type {\n",
       "        vertical-align: middle;\n",
       "    }\n",
       "\n",
       "    .dataframe tbody tr th {\n",
       "        vertical-align: top;\n",
       "    }\n",
       "\n",
       "    .dataframe thead th {\n",
       "        text-align: right;\n",
       "    }\n",
       "</style>\n",
       "<table border=\"1\" class=\"dataframe\">\n",
       "  <thead>\n",
       "    <tr style=\"text-align: right;\">\n",
       "      <th></th>\n",
       "      <th>Temp Media (ºC)</th>\n",
       "      <th>Temp Max (ºC)</th>\n",
       "      <th>Temp Mínima (ºC)</th>\n",
       "      <th>Humedad Media (%)</th>\n",
       "      <th>Humedad Max (%)</th>\n",
       "      <th>Humedad Min (%)</th>\n",
       "      <th>Radiación (MJ/m2)</th>\n",
       "      <th>Precipitación (mm)</th>\n",
       "      <th>PePMon</th>\n",
       "      <th>Temp Media (ºC)0</th>\n",
       "      <th>...</th>\n",
       "      <th>PePMon-4</th>\n",
       "      <th>Temp Media (ºC)-5</th>\n",
       "      <th>Temp Max (ºC)-5</th>\n",
       "      <th>Temp Mínima (ºC)-5</th>\n",
       "      <th>Humedad Media (%)-5</th>\n",
       "      <th>Humedad Max (%)-5</th>\n",
       "      <th>Humedad Min (%)-5</th>\n",
       "      <th>Radiación (MJ/m2)-5</th>\n",
       "      <th>Precipitación (mm)-5</th>\n",
       "      <th>PePMon-5</th>\n",
       "    </tr>\n",
       "    <tr>\n",
       "      <th>Fecha</th>\n",
       "      <th></th>\n",
       "      <th></th>\n",
       "      <th></th>\n",
       "      <th></th>\n",
       "      <th></th>\n",
       "      <th></th>\n",
       "      <th></th>\n",
       "      <th></th>\n",
       "      <th></th>\n",
       "      <th></th>\n",
       "      <th></th>\n",
       "      <th></th>\n",
       "      <th></th>\n",
       "      <th></th>\n",
       "      <th></th>\n",
       "      <th></th>\n",
       "      <th></th>\n",
       "      <th></th>\n",
       "      <th></th>\n",
       "      <th></th>\n",
       "      <th></th>\n",
       "    </tr>\n",
       "  </thead>\n",
       "  <tbody>\n",
       "    <tr>\n",
       "      <th>2001-01-01</th>\n",
       "      <td>9.36</td>\n",
       "      <td>11.89</td>\n",
       "      <td>7.64</td>\n",
       "      <td>86.0</td>\n",
       "      <td>95.9</td>\n",
       "      <td>77.70</td>\n",
       "      <td>3.77</td>\n",
       "      <td>6.8</td>\n",
       "      <td>3.26</td>\n",
       "      <td>9.36</td>\n",
       "      <td>...</td>\n",
       "      <td>NaN</td>\n",
       "      <td>NaN</td>\n",
       "      <td>NaN</td>\n",
       "      <td>NaN</td>\n",
       "      <td>NaN</td>\n",
       "      <td>NaN</td>\n",
       "      <td>NaN</td>\n",
       "      <td>NaN</td>\n",
       "      <td>NaN</td>\n",
       "      <td>NaN</td>\n",
       "    </tr>\n",
       "    <tr>\n",
       "      <th>2001-01-02</th>\n",
       "      <td>7.78</td>\n",
       "      <td>10.22</td>\n",
       "      <td>6.11</td>\n",
       "      <td>78.8</td>\n",
       "      <td>92.8</td>\n",
       "      <td>62.15</td>\n",
       "      <td>6.92</td>\n",
       "      <td>7.2</td>\n",
       "      <td>3.56</td>\n",
       "      <td>7.78</td>\n",
       "      <td>...</td>\n",
       "      <td>NaN</td>\n",
       "      <td>NaN</td>\n",
       "      <td>NaN</td>\n",
       "      <td>NaN</td>\n",
       "      <td>NaN</td>\n",
       "      <td>NaN</td>\n",
       "      <td>NaN</td>\n",
       "      <td>NaN</td>\n",
       "      <td>NaN</td>\n",
       "      <td>NaN</td>\n",
       "    </tr>\n",
       "    <tr>\n",
       "      <th>2001-01-03</th>\n",
       "      <td>7.90</td>\n",
       "      <td>9.70</td>\n",
       "      <td>6.18</td>\n",
       "      <td>82.3</td>\n",
       "      <td>90.3</td>\n",
       "      <td>72.50</td>\n",
       "      <td>3.77</td>\n",
       "      <td>3.4</td>\n",
       "      <td>0.52</td>\n",
       "      <td>7.90</td>\n",
       "      <td>...</td>\n",
       "      <td>NaN</td>\n",
       "      <td>NaN</td>\n",
       "      <td>NaN</td>\n",
       "      <td>NaN</td>\n",
       "      <td>NaN</td>\n",
       "      <td>NaN</td>\n",
       "      <td>NaN</td>\n",
       "      <td>NaN</td>\n",
       "      <td>NaN</td>\n",
       "      <td>NaN</td>\n",
       "    </tr>\n",
       "    <tr>\n",
       "      <th>2001-01-04</th>\n",
       "      <td>10.25</td>\n",
       "      <td>12.36</td>\n",
       "      <td>8.69</td>\n",
       "      <td>76.3</td>\n",
       "      <td>88.5</td>\n",
       "      <td>63.95</td>\n",
       "      <td>6.32</td>\n",
       "      <td>0.0</td>\n",
       "      <td>0.00</td>\n",
       "      <td>10.25</td>\n",
       "      <td>...</td>\n",
       "      <td>NaN</td>\n",
       "      <td>NaN</td>\n",
       "      <td>NaN</td>\n",
       "      <td>NaN</td>\n",
       "      <td>NaN</td>\n",
       "      <td>NaN</td>\n",
       "      <td>NaN</td>\n",
       "      <td>NaN</td>\n",
       "      <td>NaN</td>\n",
       "      <td>NaN</td>\n",
       "    </tr>\n",
       "    <tr>\n",
       "      <th>2001-01-05</th>\n",
       "      <td>13.12</td>\n",
       "      <td>15.54</td>\n",
       "      <td>8.83</td>\n",
       "      <td>85.7</td>\n",
       "      <td>94.9</td>\n",
       "      <td>77.90</td>\n",
       "      <td>3.75</td>\n",
       "      <td>4.6</td>\n",
       "      <td>1.52</td>\n",
       "      <td>13.12</td>\n",
       "      <td>...</td>\n",
       "      <td>1.52</td>\n",
       "      <td>NaN</td>\n",
       "      <td>NaN</td>\n",
       "      <td>NaN</td>\n",
       "      <td>NaN</td>\n",
       "      <td>NaN</td>\n",
       "      <td>NaN</td>\n",
       "      <td>NaN</td>\n",
       "      <td>NaN</td>\n",
       "      <td>NaN</td>\n",
       "    </tr>\n",
       "    <tr>\n",
       "      <th>2001-01-06</th>\n",
       "      <td>6.87</td>\n",
       "      <td>9.43</td>\n",
       "      <td>4.13</td>\n",
       "      <td>83.1</td>\n",
       "      <td>96.6</td>\n",
       "      <td>65.48</td>\n",
       "      <td>6.79</td>\n",
       "      <td>14.8</td>\n",
       "      <td>8.92</td>\n",
       "      <td>6.87</td>\n",
       "      <td>...</td>\n",
       "      <td>8.92</td>\n",
       "      <td>6.87</td>\n",
       "      <td>9.43</td>\n",
       "      <td>4.13</td>\n",
       "      <td>83.1</td>\n",
       "      <td>96.6</td>\n",
       "      <td>65.48</td>\n",
       "      <td>6.79</td>\n",
       "      <td>14.8</td>\n",
       "      <td>8.92</td>\n",
       "    </tr>\n",
       "    <tr>\n",
       "      <th>2001-01-07</th>\n",
       "      <td>4.17</td>\n",
       "      <td>7.91</td>\n",
       "      <td>1.33</td>\n",
       "      <td>76.5</td>\n",
       "      <td>93.7</td>\n",
       "      <td>47.43</td>\n",
       "      <td>8.38</td>\n",
       "      <td>0.0</td>\n",
       "      <td>0.00</td>\n",
       "      <td>4.17</td>\n",
       "      <td>...</td>\n",
       "      <td>0.00</td>\n",
       "      <td>4.17</td>\n",
       "      <td>7.91</td>\n",
       "      <td>1.33</td>\n",
       "      <td>76.5</td>\n",
       "      <td>93.7</td>\n",
       "      <td>47.43</td>\n",
       "      <td>8.38</td>\n",
       "      <td>0.0</td>\n",
       "      <td>0.00</td>\n",
       "    </tr>\n",
       "    <tr>\n",
       "      <th>2001-01-08</th>\n",
       "      <td>3.59</td>\n",
       "      <td>7.51</td>\n",
       "      <td>0.61</td>\n",
       "      <td>75.6</td>\n",
       "      <td>87.5</td>\n",
       "      <td>53.91</td>\n",
       "      <td>9.08</td>\n",
       "      <td>0.0</td>\n",
       "      <td>0.00</td>\n",
       "      <td>3.59</td>\n",
       "      <td>...</td>\n",
       "      <td>0.00</td>\n",
       "      <td>3.59</td>\n",
       "      <td>7.51</td>\n",
       "      <td>0.61</td>\n",
       "      <td>75.6</td>\n",
       "      <td>87.5</td>\n",
       "      <td>53.91</td>\n",
       "      <td>9.08</td>\n",
       "      <td>0.0</td>\n",
       "      <td>0.00</td>\n",
       "    </tr>\n",
       "    <tr>\n",
       "      <th>2001-01-09</th>\n",
       "      <td>5.63</td>\n",
       "      <td>9.04</td>\n",
       "      <td>1.46</td>\n",
       "      <td>79.8</td>\n",
       "      <td>96.6</td>\n",
       "      <td>52.19</td>\n",
       "      <td>1.76</td>\n",
       "      <td>0.8</td>\n",
       "      <td>0.00</td>\n",
       "      <td>5.63</td>\n",
       "      <td>...</td>\n",
       "      <td>0.00</td>\n",
       "      <td>5.63</td>\n",
       "      <td>9.04</td>\n",
       "      <td>1.46</td>\n",
       "      <td>79.8</td>\n",
       "      <td>96.6</td>\n",
       "      <td>52.19</td>\n",
       "      <td>1.76</td>\n",
       "      <td>0.8</td>\n",
       "      <td>0.00</td>\n",
       "    </tr>\n",
       "    <tr>\n",
       "      <th>2001-01-10</th>\n",
       "      <td>10.02</td>\n",
       "      <td>11.76</td>\n",
       "      <td>8.30</td>\n",
       "      <td>87.8</td>\n",
       "      <td>95.7</td>\n",
       "      <td>77.30</td>\n",
       "      <td>2.55</td>\n",
       "      <td>2.4</td>\n",
       "      <td>0.00</td>\n",
       "      <td>10.02</td>\n",
       "      <td>...</td>\n",
       "      <td>0.00</td>\n",
       "      <td>10.02</td>\n",
       "      <td>11.76</td>\n",
       "      <td>8.30</td>\n",
       "      <td>87.8</td>\n",
       "      <td>95.7</td>\n",
       "      <td>77.30</td>\n",
       "      <td>2.55</td>\n",
       "      <td>2.4</td>\n",
       "      <td>0.00</td>\n",
       "    </tr>\n",
       "  </tbody>\n",
       "</table>\n",
       "<p>10 rows × 63 columns</p>\n",
       "</div>"
      ],
      "text/plain": [
       "            Temp Media (ºC)  Temp Max (ºC)  Temp Mínima (ºC)  \\\n",
       "Fecha                                                          \n",
       "2001-01-01             9.36          11.89              7.64   \n",
       "2001-01-02             7.78          10.22              6.11   \n",
       "2001-01-03             7.90           9.70              6.18   \n",
       "2001-01-04            10.25          12.36              8.69   \n",
       "2001-01-05            13.12          15.54              8.83   \n",
       "2001-01-06             6.87           9.43              4.13   \n",
       "2001-01-07             4.17           7.91              1.33   \n",
       "2001-01-08             3.59           7.51              0.61   \n",
       "2001-01-09             5.63           9.04              1.46   \n",
       "2001-01-10            10.02          11.76              8.30   \n",
       "\n",
       "            Humedad Media (%)  Humedad Max (%)  Humedad Min (%)  \\\n",
       "Fecha                                                             \n",
       "2001-01-01               86.0             95.9            77.70   \n",
       "2001-01-02               78.8             92.8            62.15   \n",
       "2001-01-03               82.3             90.3            72.50   \n",
       "2001-01-04               76.3             88.5            63.95   \n",
       "2001-01-05               85.7             94.9            77.90   \n",
       "2001-01-06               83.1             96.6            65.48   \n",
       "2001-01-07               76.5             93.7            47.43   \n",
       "2001-01-08               75.6             87.5            53.91   \n",
       "2001-01-09               79.8             96.6            52.19   \n",
       "2001-01-10               87.8             95.7            77.30   \n",
       "\n",
       "            Radiación (MJ/m2)  Precipitación (mm)  PePMon  Temp Media (ºC)0  \\\n",
       "Fecha                                                                         \n",
       "2001-01-01               3.77                 6.8    3.26              9.36   \n",
       "2001-01-02               6.92                 7.2    3.56              7.78   \n",
       "2001-01-03               3.77                 3.4    0.52              7.90   \n",
       "2001-01-04               6.32                 0.0    0.00             10.25   \n",
       "2001-01-05               3.75                 4.6    1.52             13.12   \n",
       "2001-01-06               6.79                14.8    8.92              6.87   \n",
       "2001-01-07               8.38                 0.0    0.00              4.17   \n",
       "2001-01-08               9.08                 0.0    0.00              3.59   \n",
       "2001-01-09               1.76                 0.8    0.00              5.63   \n",
       "2001-01-10               2.55                 2.4    0.00             10.02   \n",
       "\n",
       "              ...     PePMon-4  Temp Media (ºC)-5  Temp Max (ºC)-5  \\\n",
       "Fecha         ...                                                    \n",
       "2001-01-01    ...          NaN                NaN              NaN   \n",
       "2001-01-02    ...          NaN                NaN              NaN   \n",
       "2001-01-03    ...          NaN                NaN              NaN   \n",
       "2001-01-04    ...          NaN                NaN              NaN   \n",
       "2001-01-05    ...         1.52                NaN              NaN   \n",
       "2001-01-06    ...         8.92               6.87             9.43   \n",
       "2001-01-07    ...         0.00               4.17             7.91   \n",
       "2001-01-08    ...         0.00               3.59             7.51   \n",
       "2001-01-09    ...         0.00               5.63             9.04   \n",
       "2001-01-10    ...         0.00              10.02            11.76   \n",
       "\n",
       "            Temp Mínima (ºC)-5  Humedad Media (%)-5  Humedad Max (%)-5  \\\n",
       "Fecha                                                                    \n",
       "2001-01-01                 NaN                  NaN                NaN   \n",
       "2001-01-02                 NaN                  NaN                NaN   \n",
       "2001-01-03                 NaN                  NaN                NaN   \n",
       "2001-01-04                 NaN                  NaN                NaN   \n",
       "2001-01-05                 NaN                  NaN                NaN   \n",
       "2001-01-06                4.13                 83.1               96.6   \n",
       "2001-01-07                1.33                 76.5               93.7   \n",
       "2001-01-08                0.61                 75.6               87.5   \n",
       "2001-01-09                1.46                 79.8               96.6   \n",
       "2001-01-10                8.30                 87.8               95.7   \n",
       "\n",
       "            Humedad Min (%)-5  Radiación (MJ/m2)-5  Precipitación (mm)-5  \\\n",
       "Fecha                                                                      \n",
       "2001-01-01                NaN                  NaN                   NaN   \n",
       "2001-01-02                NaN                  NaN                   NaN   \n",
       "2001-01-03                NaN                  NaN                   NaN   \n",
       "2001-01-04                NaN                  NaN                   NaN   \n",
       "2001-01-05                NaN                  NaN                   NaN   \n",
       "2001-01-06              65.48                 6.79                  14.8   \n",
       "2001-01-07              47.43                 8.38                   0.0   \n",
       "2001-01-08              53.91                 9.08                   0.0   \n",
       "2001-01-09              52.19                 1.76                   0.8   \n",
       "2001-01-10              77.30                 2.55                   2.4   \n",
       "\n",
       "            PePMon-5  \n",
       "Fecha                 \n",
       "2001-01-01       NaN  \n",
       "2001-01-02       NaN  \n",
       "2001-01-03       NaN  \n",
       "2001-01-04       NaN  \n",
       "2001-01-05       NaN  \n",
       "2001-01-06      8.92  \n",
       "2001-01-07      0.00  \n",
       "2001-01-08      0.00  \n",
       "2001-01-09      0.00  \n",
       "2001-01-10      0.00  \n",
       "\n",
       "[10 rows x 63 columns]"
      ]
     },
     "execution_count": 33,
     "metadata": {},
     "output_type": "execute_result"
    }
   ],
   "source": [
    "data2.head(10)"
   ]
  },
  {
   "cell_type": "code",
   "execution_count": 34,
   "metadata": {},
   "outputs": [],
   "source": [
    "data2 = data.drop(data.index[:5])\n",
    "labels2 = labels.drop(labels.index[:5])\n"
   ]
  },
  {
   "cell_type": "code",
   "execution_count": 35,
   "metadata": {},
   "outputs": [],
   "source": [
    "X2_train,X2_test,Y2_train,Y2_test = train_test_split(data2,labels2,test_size=0.20,random_state=20)"
   ]
  },
  {
   "cell_type": "code",
   "execution_count": 36,
   "metadata": {},
   "outputs": [
    {
     "name": "stdout",
     "output_type": "stream",
     "text": [
      "Coefficients: \n",
      " [ 0.01838224  0.0304453   0.0756795  -0.02503331  0.00102455  0.00254962\n",
      "  0.14829209  0.1775675  -0.25069667]\n",
      "Root Mean squared error: 0.56\n",
      "Variance score: 0.95\n"
     ]
    }
   ],
   "source": [
    "regr = linear_model.LinearRegression()\n",
    "regr.fit(X2_train, Y2_train)\n",
    "prediction = regr.predict(X2_test)\n",
    "print('Coefficients: \\n', regr.coef_)\n",
    "print(\"Root Mean squared error: %.2f\"\n",
    "      % sqrt(mean_squared_error(Y2_test, prediction)))\n",
    "print('Variance score: %.2f' % r2_score(Y2_test, prediction))"
   ]
  },
  {
   "cell_type": "code",
   "execution_count": 37,
   "metadata": {},
   "outputs": [
    {
     "name": "stdout",
     "output_type": "stream",
     "text": [
      "Fecha\n",
      "2013-04-11    2.98\n",
      "2018-02-03    1.47\n",
      "2014-09-05    6.12\n",
      "2001-11-15    1.41\n",
      "2013-12-02    1.64\n",
      "2011-07-17    8.02\n",
      "2014-11-10    1.29\n",
      "2016-03-20    1.19\n",
      "2009-09-10    5.38\n",
      "2006-11-05    0.44\n",
      "Name: EtPMon, dtype: float64\n",
      "[ 2.92913021  1.73938684  6.47891945  0.47960108  1.9061955   7.2855427\n",
      "  1.97842847  1.18099736  5.93509065  0.62604587]\n"
     ]
    }
   ],
   "source": [
    "print(Y2_test[:10]); print(prediction[:10])"
   ]
  },
  {
   "cell_type": "code",
   "execution_count": 38,
   "metadata": {},
   "outputs": [],
   "source": [
    "aux=Y2_test[:10]"
   ]
  },
  {
   "cell_type": "code",
   "execution_count": 39,
   "metadata": {},
   "outputs": [],
   "source": [
    "aux=aux.reset_index()\n",
    "aux= aux.drop(['Fecha'],axis=1)"
   ]
  },
  {
   "cell_type": "code",
   "execution_count": 40,
   "metadata": {},
   "outputs": [
    {
     "data": {
      "image/png": "[encoded data removed]",
      "text/plain": [
       "<Figure size 432x288 with 1 Axes>"
      ]
     },
     "metadata": {},
     "output_type": "display_data"
    }
   ],
   "source": [
    "plt.plot(prediction[:10])\n",
    "plt.plot(aux)\n",
    "plt.ylabel('Comparativa Predicción-Test')\n",
    "plt.show()"
   ]
  },
  {
   "cell_type": "markdown",
   "metadata": {},
   "source": [
    "## Árboles de decisión"
   ]
  },
  {
   "cell_type": "markdown",
   "metadata": {},
   "source": [
    "Otro modelo que podemos aplicar son los árboles de decisión y en concreto los de tipo regressor. Esperando conseguir una disminución del error frente a la regresión lineal. Como ya separamos los datos para las regresiones lineales vamos a ejecutar los mismos ejemplos pero con árboles ahora.\n",
    "En los códigos se han incluido tanto los decision tree como los metodos ensemble RandomForest, comentando uno y descomentando el otro se puede ver la diferencia en la ejecucíon entre uno y otro."
   ]
  },
  {
   "cell_type": "markdown",
   "metadata": {},
   "source": [
    "#### Alta dimensionalidad"
   ]
  },
  {
   "cell_type": "code",
   "execution_count": 41,
   "metadata": {},
   "outputs": [
    {
     "name": "stdout",
     "output_type": "stream",
     "text": [
      "MSE: 0.229972759392\n",
      "RMSE: 0.479554751193736\n"
     ]
    }
   ],
   "source": [
    "from sklearn.model_selection import cross_val_score\n",
    "from sklearn.tree import DecisionTreeRegressor\n",
    "from sklearn.ensemble import RandomForestRegressor\n",
    "#regressor = DecisionTreeRegressor(random_state=0)\n",
    "regressor = RandomForestRegressor(criterion='mse')\n",
    "regressor.fit(X2_train,Y2_train)\n",
    "modelPred = regressor.predict(X2_test)\n",
    "meanSquaredError=mean_squared_error(Y2_test, modelPred)\n",
    "print(\"MSE:\", meanSquaredError)\n",
    "rootMeanSquaredError = sqrt(meanSquaredError)\n",
    "print(\"RMSE:\", rootMeanSquaredError)"
   ]
  },
  {
   "cell_type": "markdown",
   "metadata": {},
   "source": [
    "#### Datos sin tratar"
   ]
  },
  {
   "cell_type": "code",
   "execution_count": 42,
   "metadata": {},
   "outputs": [
    {
     "name": "stdout",
     "output_type": "stream",
     "text": [
      "MSE: 0.215111788339\n",
      "RMSE: 0.4638014535754046\n"
     ]
    }
   ],
   "source": [
    "#regressor = DecisionTreeRegressor(random_state=0)\n",
    "regressor = RandomForestRegressor(criterion='mse')\n",
    "regressor.fit(X_train,Y_train)\n",
    "modelPred = regressor.predict(X_test)\n",
    "meanSquaredError=mean_squared_error(Y_test, modelPred)\n",
    "print(\"MSE:\", meanSquaredError)\n",
    "rootMeanSquaredError = sqrt(meanSquaredError)\n",
    "print(\"RMSE:\", rootMeanSquaredError)"
   ]
  },
  {
   "cell_type": "markdown",
   "metadata": {},
   "source": [
    "#### Estandarizando"
   ]
  },
  {
   "cell_type": "code",
   "execution_count": 43,
   "metadata": {},
   "outputs": [
    {
     "name": "stdout",
     "output_type": "stream",
     "text": [
      "MSE: 0.225895988818\n",
      "RMSE: 0.4752851657877525\n"
     ]
    }
   ],
   "source": [
    "#regressor = DecisionTreeRegressor(random_state=0)\n",
    "regressor = RandomForestRegressor(criterion='mse')\n",
    "regressor.fit(std_X_train,Y_train)\n",
    "modelPred = regressor.predict(std_X_test)\n",
    "meanSquaredError=mean_squared_error(Y_test, modelPred)\n",
    "print(\"MSE:\", meanSquaredError)\n",
    "rootMeanSquaredError = sqrt(meanSquaredError)\n",
    "print(\"RMSE:\", rootMeanSquaredError)"
   ]
  },
  {
   "cell_type": "markdown",
   "metadata": {},
   "source": [
    "#### Cross-validation"
   ]
  },
  {
   "cell_type": "code",
   "execution_count": 44,
   "metadata": {},
   "outputs": [
    {
     "name": "stdout",
     "output_type": "stream",
     "text": [
      "RMSE: 0.47816414352189973\n"
     ]
    }
   ],
   "source": [
    "regressor = RandomForestRegressor(criterion='mse')\n",
    "scores = cross_val_score(regressor, data, labels, cv=10,scoring='neg_mean_squared_error')\n",
    "print(\"RMSE:\", sqrt(-scores.mean()))"
   ]
  },
  {
   "cell_type": "markdown",
   "metadata": {},
   "source": [
    "## Reduciendo a variables solo de predicción(las que podemos encontrar en AEMET)"
   ]
  },
  {
   "cell_type": "markdown",
   "metadata": {},
   "source": [
    "Como se trata de una predicción y la base de datos es a posteriori, vamos a realizar otra en la que solo tengamos los datos que se pueden obtener a futuro, para eso realizaremos la obtención de variables sobre la página de la AEMET."
   ]
  },
  {
   "cell_type": "markdown",
   "metadata": {},
   "source": [
    "Datos que puedo obtener de previsión en AEMET:\n",
    "- Probabilidad de precipitación.\n",
    "- Temperatura max,min.\n",
    "- Humedad relativa max,min.\n",
    "- Precipitacion\n",
    "\n"
   ]
  },
  {
   "cell_type": "markdown",
   "metadata": {},
   "source": [
    "### Conviertiendo la precipitacion a booleano"
   ]
  },
  {
   "cell_type": "markdown",
   "metadata": {},
   "source": [
    "Como no podemos saber cuanta precipitacion de lluvia va a caer con certeza para un día en el futuro, vamos a modelar nuestros datos como un booleano el cual denotará si llovió ese día o no lo hizo."
   ]
  },
  {
   "cell_type": "code",
   "execution_count": 45,
   "metadata": {},
   "outputs": [],
   "source": [
    "\n",
    "elements = data['Precipitación (mm)'].values\n",
    "elements_ok = [1 if element > 0 else 0 for element in elements]\n",
    "data['Precipitación (mm)'] = elements_ok\n"
   ]
  },
  {
   "cell_type": "markdown",
   "metadata": {},
   "source": [
    "Quitamos la radiación y la precipitación efectiva ya que son datos que no podemos conocer."
   ]
  },
  {
   "cell_type": "code",
   "execution_count": 46,
   "metadata": {},
   "outputs": [],
   "source": [
    "\n",
    "data_red = data.drop(['Radiación (MJ/m2)','PePMon'],axis=1);\n",
    "X_train,X_test,Y_train,Y_test = train_test_split(data_red,labels,test_size=0.20)"
   ]
  },
  {
   "cell_type": "code",
   "execution_count": 47,
   "metadata": {},
   "outputs": [
    {
     "data": {
      "text/html": [
       "<div>\n",
       "<style scoped>\n",
       "    .dataframe tbody tr th:only-of-type {\n",
       "        vertical-align: middle;\n",
       "    }\n",
       "\n",
       "    .dataframe tbody tr th {\n",
       "        vertical-align: top;\n",
       "    }\n",
       "\n",
       "    .dataframe thead th {\n",
       "        text-align: right;\n",
       "    }\n",
       "</style>\n",
       "<table border=\"1\" class=\"dataframe\">\n",
       "  <thead>\n",
       "    <tr style=\"text-align: right;\">\n",
       "      <th></th>\n",
       "      <th>Temp Media (ºC)</th>\n",
       "      <th>Temp Max (ºC)</th>\n",
       "      <th>Temp Mínima (ºC)</th>\n",
       "      <th>Humedad Media (%)</th>\n",
       "      <th>Humedad Max (%)</th>\n",
       "      <th>Humedad Min (%)</th>\n",
       "      <th>Precipitación (mm)</th>\n",
       "    </tr>\n",
       "    <tr>\n",
       "      <th>Fecha</th>\n",
       "      <th></th>\n",
       "      <th></th>\n",
       "      <th></th>\n",
       "      <th></th>\n",
       "      <th></th>\n",
       "      <th></th>\n",
       "      <th></th>\n",
       "    </tr>\n",
       "  </thead>\n",
       "  <tbody>\n",
       "    <tr>\n",
       "      <th>2001-01-01</th>\n",
       "      <td>9.36</td>\n",
       "      <td>11.89</td>\n",
       "      <td>7.64</td>\n",
       "      <td>86.0</td>\n",
       "      <td>95.9</td>\n",
       "      <td>77.70</td>\n",
       "      <td>1</td>\n",
       "    </tr>\n",
       "    <tr>\n",
       "      <th>2001-01-02</th>\n",
       "      <td>7.78</td>\n",
       "      <td>10.22</td>\n",
       "      <td>6.11</td>\n",
       "      <td>78.8</td>\n",
       "      <td>92.8</td>\n",
       "      <td>62.15</td>\n",
       "      <td>1</td>\n",
       "    </tr>\n",
       "    <tr>\n",
       "      <th>2001-01-03</th>\n",
       "      <td>7.90</td>\n",
       "      <td>9.70</td>\n",
       "      <td>6.18</td>\n",
       "      <td>82.3</td>\n",
       "      <td>90.3</td>\n",
       "      <td>72.50</td>\n",
       "      <td>1</td>\n",
       "    </tr>\n",
       "    <tr>\n",
       "      <th>2001-01-04</th>\n",
       "      <td>10.25</td>\n",
       "      <td>12.36</td>\n",
       "      <td>8.69</td>\n",
       "      <td>76.3</td>\n",
       "      <td>88.5</td>\n",
       "      <td>63.95</td>\n",
       "      <td>0</td>\n",
       "    </tr>\n",
       "    <tr>\n",
       "      <th>2001-01-05</th>\n",
       "      <td>13.12</td>\n",
       "      <td>15.54</td>\n",
       "      <td>8.83</td>\n",
       "      <td>85.7</td>\n",
       "      <td>94.9</td>\n",
       "      <td>77.90</td>\n",
       "      <td>1</td>\n",
       "    </tr>\n",
       "  </tbody>\n",
       "</table>\n",
       "</div>"
      ],
      "text/plain": [
       "            Temp Media (ºC)  Temp Max (ºC)  Temp Mínima (ºC)  \\\n",
       "Fecha                                                          \n",
       "2001-01-01             9.36          11.89              7.64   \n",
       "2001-01-02             7.78          10.22              6.11   \n",
       "2001-01-03             7.90           9.70              6.18   \n",
       "2001-01-04            10.25          12.36              8.69   \n",
       "2001-01-05            13.12          15.54              8.83   \n",
       "\n",
       "            Humedad Media (%)  Humedad Max (%)  Humedad Min (%)  \\\n",
       "Fecha                                                             \n",
       "2001-01-01               86.0             95.9            77.70   \n",
       "2001-01-02               78.8             92.8            62.15   \n",
       "2001-01-03               82.3             90.3            72.50   \n",
       "2001-01-04               76.3             88.5            63.95   \n",
       "2001-01-05               85.7             94.9            77.90   \n",
       "\n",
       "            Precipitación (mm)  \n",
       "Fecha                           \n",
       "2001-01-01                   1  \n",
       "2001-01-02                   1  \n",
       "2001-01-03                   1  \n",
       "2001-01-04                   0  \n",
       "2001-01-05                   1  "
      ]
     },
     "execution_count": 47,
     "metadata": {},
     "output_type": "execute_result"
    }
   ],
   "source": [
    "data_red.head(5)"
   ]
  },
  {
   "cell_type": "markdown",
   "metadata": {},
   "source": [
    "Este sería el aspecto de nuestra nueva base de datos. Aplicamos los mismos modelos que antes sabiendo que el error será más grande al tener menos representatividad."
   ]
  },
  {
   "cell_type": "markdown",
   "metadata": {},
   "source": [
    "### Regresión lineal"
   ]
  },
  {
   "cell_type": "code",
   "execution_count": 48,
   "metadata": {},
   "outputs": [
    {
     "name": "stdout",
     "output_type": "stream",
     "text": [
      "Root Mean squared error: 0.80\n",
      "Variance score: 0.90\n"
     ]
    }
   ],
   "source": [
    "regr = linear_model.LinearRegression()\n",
    "regr.fit(X_train, Y_train)\n",
    "prediction = regr.predict(X_test)\n",
    "print(\"Root Mean squared error: %.2f\"\n",
    "      % sqrt(mean_squared_error(Y_test, prediction)))\n",
    "print('Variance score: %.2f' % r2_score(Y_test, prediction))"
   ]
  },
  {
   "cell_type": "markdown",
   "metadata": {
    "collapsed": true
   },
   "source": [
    "### Árboles de decisión"
   ]
  },
  {
   "cell_type": "code",
   "execution_count": 49,
   "metadata": {},
   "outputs": [
    {
     "name": "stdout",
     "output_type": "stream",
     "text": [
      "MSE: 0.561811035144\n",
      "RMSE: 0.7495405493659232\n",
      "Variance score: 0.91\n"
     ]
    }
   ],
   "source": [
    "#regressor = DecisionTreeRegressor(random_state=0)\n",
    "regressor = RandomForestRegressor(criterion='mse')\n",
    "regressor.fit(X_train,Y_train)\n",
    "modelPred = regressor.predict(X_test)\n",
    "meanSquaredError=mean_squared_error(Y_test, modelPred)\n",
    "print(\"MSE:\", meanSquaredError)\n",
    "rootMeanSquaredError = sqrt(meanSquaredError)\n",
    "print(\"RMSE:\", rootMeanSquaredError)\n",
    "print('Variance score: %.2f' % r2_score(Y_test, modelPred))"
   ]
  },
  {
   "cell_type": "markdown",
   "metadata": {},
   "source": [
    "## Prediciendo el valor de Mañana"
   ]
  },
  {
   "cell_type": "markdown",
   "metadata": {},
   "source": [
    "El objetivo al final es predecir el valor de evapotranspiración para el día siguiente, para ello hemos creado los modelos de aprendizaje. Por ello debemos acceder a la previsión meteorológica para el día que queremos predecir y pasarselo al modelo para que nos de el valor.\n",
    "\n",
    "Esta obtención se ha realizado mediante scrapping de la web de la AEMET.\n",
    "\n",
    "\n",
    "\n"
   ]
  },
  {
   "cell_type": "markdown",
   "metadata": {
    "collapsed": true
   },
   "source": [
    "### Web scrapping Aemet"
   ]
  },
  {
   "cell_type": "code",
   "execution_count": 50,
   "metadata": {},
   "outputs": [
    {
     "name": "stdout",
     "output_type": "stream",
     "text": [
      "Prevision:  2018-04-11\n",
      "Temperatura Max: 13.0\n",
      "Temperatura Min: 2.0\n",
      "Temperatura Med: 7.5\n",
      "Humedad Max: 95.0\n",
      "Humedad Min: 40.0\n",
      "Humedad Med: 67.5\n",
      "Precipitacion: 0\n"
     ]
    }
   ],
   "source": [
    "from lxml import etree\n",
    "doc = etree.parse('http://www.aemet.es/xml/municipios/localidad_45112.xml')\n",
    "raiz=doc.getroot()\n",
    "prediccion = raiz[4]\n",
    "#dia = prediccion[1] # Para coger la prevision de mañana.\n",
    "dia = prediccion[0] # Para coger la prevision de hoy.\n",
    "fecha=dia.get('fecha')\n",
    "temperatura=dia.find(\"temperatura\")\n",
    "probprecipitacion=dia.find(\"prob_precipitacion\")\n",
    "temperaturaMax=float(temperatura.find(\"maxima\").text)\n",
    "temperaturaMin=float(temperatura.find(\"minima\").text)\n",
    "humedad=dia.find(\"humedad_relativa\")\n",
    "humedadMax=float(humedad.find(\"maxima\").text)\n",
    "humedadMin=float(humedad.find(\"minima\").text)\n",
    "humedadMed=((humedadMax)+(humedadMin))/2\n",
    "temperaturaMed=((temperaturaMax)+(temperaturaMin))/2\n",
    "precipitacion= 0 if probprecipitacion.text == None else int(probprecipitacion.text)\n",
    "precipitaciondummy = 1 if precipitacion > 60 else 0\n",
    "print(\"Prevision: \",fecha)\n",
    "print(\"Temperatura Max:\",temperaturaMax)\n",
    "print(\"Temperatura Min:\",temperaturaMin)\n",
    "print(\"Temperatura Med:\",temperaturaMed)\n",
    "print(\"Humedad Max:\",humedadMax)\n",
    "print(\"Humedad Min:\",humedadMin)\n",
    "print(\"Humedad Med:\",humedadMed)\n",
    "print(\"Precipitacion:\",precipitaciondummy)\n"
   ]
  },
  {
   "cell_type": "markdown",
   "metadata": {},
   "source": [
    "Guardamos los valores en una variable que le pasaremos al modelo."
   ]
  },
  {
   "cell_type": "code",
   "execution_count": 51,
   "metadata": {},
   "outputs": [
    {
     "data": {
      "text/html": [
       "<div>\n",
       "<style scoped>\n",
       "    .dataframe tbody tr th:only-of-type {\n",
       "        vertical-align: middle;\n",
       "    }\n",
       "\n",
       "    .dataframe tbody tr th {\n",
       "        vertical-align: top;\n",
       "    }\n",
       "\n",
       "    .dataframe thead th {\n",
       "        text-align: right;\n",
       "    }\n",
       "</style>\n",
       "<table border=\"1\" class=\"dataframe\">\n",
       "  <thead>\n",
       "    <tr style=\"text-align: right;\">\n",
       "      <th></th>\n",
       "      <th>Temp Media (ºC)</th>\n",
       "      <th>Temp Max (ºC)</th>\n",
       "      <th>Temp Minima (ºC)</th>\n",
       "      <th>Humedad Media (%)</th>\n",
       "      <th>Humedad Max (%)</th>\n",
       "      <th>Humedad Min (%)</th>\n",
       "      <th>Precipitación (mm)</th>\n",
       "    </tr>\n",
       "  </thead>\n",
       "  <tbody>\n",
       "    <tr>\n",
       "      <th>2018-04-11</th>\n",
       "      <td>7.5</td>\n",
       "      <td>13.0</td>\n",
       "      <td>2.0</td>\n",
       "      <td>67.5</td>\n",
       "      <td>95.0</td>\n",
       "      <td>40.0</td>\n",
       "      <td>0</td>\n",
       "    </tr>\n",
       "  </tbody>\n",
       "</table>\n",
       "</div>"
      ],
      "text/plain": [
       "            Temp Media (ºC)  Temp Max (ºC)  Temp Minima (ºC)  \\\n",
       "2018-04-11              7.5           13.0               2.0   \n",
       "\n",
       "            Humedad Media (%)  Humedad Max (%)  Humedad Min (%)  \\\n",
       "2018-04-11               67.5             95.0             40.0   \n",
       "\n",
       "            Precipitación (mm)  \n",
       "2018-04-11                   0  "
      ]
     },
     "execution_count": 51,
     "metadata": {},
     "output_type": "execute_result"
    }
   ],
   "source": [
    "d = pd.DataFrame.from_items([(fecha,[temperaturaMed,temperaturaMax,temperaturaMin,humedadMed,humedadMax,humedadMin,precipitaciondummy])],orient='index', columns=(['Temp Media (ºC)','Temp Max (ºC)','Temp Minima (ºC)','Humedad Media (%)','Humedad Max (%)','Humedad Min (%)','Precipitación (mm)']))\n",
    "d.dtypes\n",
    "d"
   ]
  },
  {
   "cell_type": "code",
   "execution_count": 52,
   "metadata": {},
   "outputs": [
    {
     "name": "stdout",
     "output_type": "stream",
     "text": [
      "Prediccion de la evapotranspiracion de referencia para el dia 2018-04-11 : 2.31480535624\n"
     ]
    }
   ],
   "source": [
    "regr = linear_model.LinearRegression()\n",
    "regr.fit(X_train, Y_train)\n",
    "prediction = regr.predict(d)\n",
    "print(\"Prediccion de la evapotranspiracion de referencia para el dia\",fecha,\":\",prediction[0])"
   ]
  },
  {
   "cell_type": "markdown",
   "metadata": {},
   "source": [
    "### Para no saturar mucho este notebook, se ha realizado una última prueba teniendo en cuenta la evapotranspiración del día anterior. \n",
    "### Esta prueba se ha realizado en el notebook ***Prediccion-EvapotranspiracionAnterior*** el cual se encuentra en la misma carpeta. Link to [Notebook](Prediccion-EvapotranspiracionAnterior.ipynb)\n",
    "\n",
    "### De forma anecdótica también intente seguir un tutorial sobre Time Series en bases de datos multivariable sin mucha fortuna. [MultiVariate time series forecasting](MultiVariate time series forecasting.ipynb)"
   ]
  },
  {
   "cell_type": "markdown",
   "metadata": {},
   "source": [
    "# Bonus Track"
   ]
  },
  {
   "cell_type": "markdown",
   "metadata": {},
   "source": [
    "Esta sección nos va a permitir la obtención periódica de los datos de las estaciones meteorológicas con previsión de ser ejecutado en un servidor cada día para la realización de la previsión con los datos actualizados."
   ]
  },
  {
   "cell_type": "markdown",
   "metadata": {},
   "source": [
    "### Descargar automatica diaria del valor correcto de Evapotraspiracion con Selenium"
   ]
  },
  {
   "cell_type": "code",
   "execution_count": 53,
   "metadata": {},
   "outputs": [],
   "source": [
    "from selenium.webdriver.firefox.firefox_profile import FirefoxProfile\n",
    "profile = FirefoxProfile ()\n",
    "profile.set_preference(\"browser.download.folderList\",2)\n",
    "profile.set_preference(\"browser.download.manager.showWhenStarting\",False)\n",
    "profile.set_preference(\"browser.download.dir\",\"c:\\\\Users\\Pablo\\Desktop\\EntregaAnalisis-PabloSaura\")\n",
    "profile.set_preference(\"browser.helperApps.neverAsk.saveToDisk\",\"application/zip\")\n"
   ]
  },
  {
   "cell_type": "code",
   "execution_count": 54,
   "metadata": {},
   "outputs": [],
   "source": [
    "from selenium import webdriver\n",
    "from selenium.webdriver.common.keys import Keys\n",
    "from selenium.webdriver.support.ui import Select\n",
    "import time\n",
    "driver = webdriver.Firefox(firefox_profile=profile) # Se crea la instancia de Firefox WebDriver\n",
    "driver.get(\"http://eportal.mapama.gob.es/websiar/SeleccionParametrosMap.aspx?dst=1\")\n",
    "driver.implicitly_wait(5)\n",
    "driver.maximize_window()\n",
    "elem = Select(driver.find_element_by_name(\"ctl00$ContentPlaceHolder1$DropDownListCCAA\"))\n",
    "elem.select_by_visible_text(\"Castilla-La Mancha\")\n",
    "time.sleep(2)\n",
    "\n",
    "elem = Select(driver.find_element_by_name(\"ctl00$ContentPlaceHolder1$DropDownListProvincia\"))\n",
    "elem.select_by_visible_text(\"Toledo\")\n",
    "\n",
    "elem = Select(driver.find_element_by_name(\"ctl00$ContentPlaceHolder1$DropDownListEstacion\"))\n",
    "elem.select_by_visible_text(\"Los Navalmorales\")\n",
    "time.sleep(1)\n",
    "elem = driver.find_element_by_name(\"ctl00$ContentPlaceHolder1$ButtonAgregar\")\n",
    "elem.click()\n",
    "\n",
    "elem = driver.find_element_by_name(\"ctl00$ContentPlaceHolder1$CheckBoxVViento\")\n",
    "elem.click()\n",
    "\n",
    "elem = driver.find_element_by_name(\"ctl00$ContentPlaceHolder1$CheckBoxListParametros$CheckBoxListParametros_2\")\n",
    "elem.click()\n",
    "\n",
    "elem = driver.find_element_by_name(\"ctl00$ContentPlaceHolder1$CheckBoxListParametros$CheckBoxListParametros_8\")\n",
    "elem.click()\n",
    "\n",
    "elem = driver.find_element_by_name(\"ctl00$ContentPlaceHolder1$CheckBoxListParametros$CheckBoxListParametros_4\")\n",
    "elem.click()\n",
    "\n",
    "elem = driver.find_element_by_name(\"ctl00$ContentPlaceHolder1$CheckBoxListParametros$CheckBoxListParametros_10\")\n",
    "elem.click()\n",
    "\n",
    "elem = driver.find_element_by_name(\"ctl00$ContentPlaceHolder1$CheckBoxDViento\")\n",
    "elem.click()\n",
    "\n",
    "elem = driver.find_element_by_name(\"ctl00$ContentPlaceHolder1$btnConsultar\")\n",
    "elem.click()\n",
    "\n",
    "driver.switch_to.window(driver.window_handles[1])\n",
    "time.sleep(1)\n",
    "content = driver.find_element_by_xpath('//*[@id=\"ContentPlaceHolder1_ExportarCSV\"]')\n",
    "content.click()                               \n",
    "time.sleep(3) #Tiempo prudencial para que descarge\n",
    "\n",
    "driver.quit() # Si usamos “quit” cerramos todo el navegador, no solo la página actual"
   ]
  },
  {
   "cell_type": "markdown",
   "metadata": {},
   "source": [
    "### Descomprimiendo el archivo guardado y uniendolo al dataframe"
   ]
  },
  {
   "cell_type": "code",
   "execution_count": 55,
   "metadata": {},
   "outputs": [],
   "source": [
    "import zipfile, os\n",
    "with zipfile.ZipFile(\"InformeDatos.zip\",\"r\") as zip_ref:\n",
    "    zip_ref.extractall(\".\")\n",
    "    \n",
    "path = '.'\n",
    "for i in os.listdir(path):\n",
    "    if os.path.isfile(os.path.join(path,i)) and 'TO04' in i:\n",
    "        file=i\n",
    "os.rename(file, 'losnavalmoralesUpdate.csv')\n",
    "os.remove(\"InformeDatos.zip\") "
   ]
  },
  {
   "cell_type": "code",
   "execution_count": 56,
   "metadata": {},
   "outputs": [
    {
     "data": {
      "text/html": [
       "<div>\n",
       "<style scoped>\n",
       "    .dataframe tbody tr th:only-of-type {\n",
       "        vertical-align: middle;\n",
       "    }\n",
       "\n",
       "    .dataframe tbody tr th {\n",
       "        vertical-align: top;\n",
       "    }\n",
       "\n",
       "    .dataframe thead th {\n",
       "        text-align: right;\n",
       "    }\n",
       "</style>\n",
       "<table border=\"1\" class=\"dataframe\">\n",
       "  <thead>\n",
       "    <tr style=\"text-align: right;\">\n",
       "      <th></th>\n",
       "      <th>IdProvincia</th>\n",
       "      <th>IdEstacion</th>\n",
       "      <th>Fecha</th>\n",
       "      <th>Año</th>\n",
       "      <th>Dia</th>\n",
       "      <th>Temp Media (ºC)</th>\n",
       "      <th>Temp Max (ºC)</th>\n",
       "      <th>Temp Mínima (ºC)</th>\n",
       "      <th>Humedad Media (%)</th>\n",
       "      <th>Humedad Max (%)</th>\n",
       "      <th>Humedad Min (%)</th>\n",
       "      <th>Radiación (MJ/m2)</th>\n",
       "      <th>Precipitación (mm)</th>\n",
       "      <th>PePMon</th>\n",
       "      <th>EtPMon</th>\n",
       "    </tr>\n",
       "  </thead>\n",
       "  <tbody>\n",
       "    <tr>\n",
       "      <th>0</th>\n",
       "      <td>45</td>\n",
       "      <td>4</td>\n",
       "      <td>04/04/2018</td>\n",
       "      <td>2018</td>\n",
       "      <td>94</td>\n",
       "      <td>9,37</td>\n",
       "      <td>13,64</td>\n",
       "      <td>6,07</td>\n",
       "      <td>78,9</td>\n",
       "      <td>95,4</td>\n",
       "      <td>60,64</td>\n",
       "      <td>16,46</td>\n",
       "      <td>5,59</td>\n",
       "      <td>2,32</td>\n",
       "      <td>2,46</td>\n",
       "    </tr>\n",
       "    <tr>\n",
       "      <th>1</th>\n",
       "      <td>45</td>\n",
       "      <td>4</td>\n",
       "      <td>05/04/2018</td>\n",
       "      <td>2018</td>\n",
       "      <td>95</td>\n",
       "      <td>11,6</td>\n",
       "      <td>16,75</td>\n",
       "      <td>5,47</td>\n",
       "      <td>68,74</td>\n",
       "      <td>86,7</td>\n",
       "      <td>52,96</td>\n",
       "      <td>22,51</td>\n",
       "      <td>0</td>\n",
       "      <td>0</td>\n",
       "      <td>3,2</td>\n",
       "    </tr>\n",
       "    <tr>\n",
       "      <th>2</th>\n",
       "      <td>45</td>\n",
       "      <td>4</td>\n",
       "      <td>06/04/2018</td>\n",
       "      <td>2018</td>\n",
       "      <td>96</td>\n",
       "      <td>12,49</td>\n",
       "      <td>17,95</td>\n",
       "      <td>7,67</td>\n",
       "      <td>70</td>\n",
       "      <td>87,3</td>\n",
       "      <td>51,29</td>\n",
       "      <td>10,96</td>\n",
       "      <td>0,98</td>\n",
       "      <td>0</td>\n",
       "      <td>2,39</td>\n",
       "    </tr>\n",
       "    <tr>\n",
       "      <th>3</th>\n",
       "      <td>45</td>\n",
       "      <td>4</td>\n",
       "      <td>07/04/2018</td>\n",
       "      <td>2018</td>\n",
       "      <td>97</td>\n",
       "      <td>7,59</td>\n",
       "      <td>12,17</td>\n",
       "      <td>5,61</td>\n",
       "      <td>87,8</td>\n",
       "      <td>97,9</td>\n",
       "      <td>61,31</td>\n",
       "      <td>10,56</td>\n",
       "      <td>7,45</td>\n",
       "      <td>3,76</td>\n",
       "      <td>1,76</td>\n",
       "    </tr>\n",
       "    <tr>\n",
       "      <th>4</th>\n",
       "      <td>45</td>\n",
       "      <td>4</td>\n",
       "      <td>08/04/2018</td>\n",
       "      <td>2018</td>\n",
       "      <td>98</td>\n",
       "      <td>8,48</td>\n",
       "      <td>12,84</td>\n",
       "      <td>5,41</td>\n",
       "      <td>80,8</td>\n",
       "      <td>97,3</td>\n",
       "      <td>55,71</td>\n",
       "      <td>18,2</td>\n",
       "      <td>0,59</td>\n",
       "      <td>0</td>\n",
       "      <td>2,56</td>\n",
       "    </tr>\n",
       "    <tr>\n",
       "      <th>5</th>\n",
       "      <td>45</td>\n",
       "      <td>4</td>\n",
       "      <td>09/04/2018</td>\n",
       "      <td>2018</td>\n",
       "      <td>99</td>\n",
       "      <td>4,78</td>\n",
       "      <td>6,27</td>\n",
       "      <td>2,55</td>\n",
       "      <td>85,8</td>\n",
       "      <td>95,5</td>\n",
       "      <td>76,3</td>\n",
       "      <td>9,53</td>\n",
       "      <td>1,47</td>\n",
       "      <td>0</td>\n",
       "      <td>1,26</td>\n",
       "    </tr>\n",
       "    <tr>\n",
       "      <th>6</th>\n",
       "      <td>45</td>\n",
       "      <td>4</td>\n",
       "      <td>10/04/2018</td>\n",
       "      <td>2018</td>\n",
       "      <td>100</td>\n",
       "      <td>5,32</td>\n",
       "      <td>8,74</td>\n",
       "      <td>3,02</td>\n",
       "      <td>88,9</td>\n",
       "      <td>95,1</td>\n",
       "      <td>75,7</td>\n",
       "      <td>5,18</td>\n",
       "      <td>8,82</td>\n",
       "      <td>4,77</td>\n",
       "      <td>1,15</td>\n",
       "    </tr>\n",
       "  </tbody>\n",
       "</table>\n",
       "</div>"
      ],
      "text/plain": [
       "   IdProvincia  IdEstacion       Fecha   Año  Dia Temp Media (ºC)  \\\n",
       "0           45           4  04/04/2018  2018   94            9,37   \n",
       "1           45           4  05/04/2018  2018   95            11,6   \n",
       "2           45           4  06/04/2018  2018   96           12,49   \n",
       "3           45           4  07/04/2018  2018   97            7,59   \n",
       "4           45           4  08/04/2018  2018   98            8,48   \n",
       "5           45           4  09/04/2018  2018   99            4,78   \n",
       "6           45           4  10/04/2018  2018  100            5,32   \n",
       "\n",
       "  Temp Max (ºC) Temp Mínima (ºC) Humedad Media (%) Humedad Max (%)  \\\n",
       "0         13,64             6,07              78,9            95,4   \n",
       "1         16,75             5,47             68,74            86,7   \n",
       "2         17,95             7,67                70            87,3   \n",
       "3         12,17             5,61              87,8            97,9   \n",
       "4         12,84             5,41              80,8            97,3   \n",
       "5          6,27             2,55              85,8            95,5   \n",
       "6          8,74             3,02              88,9            95,1   \n",
       "\n",
       "  Humedad Min (%) Radiación (MJ/m2) Precipitación (mm) PePMon EtPMon  \n",
       "0           60,64             16,46               5,59   2,32   2,46  \n",
       "1           52,96             22,51                  0      0    3,2  \n",
       "2           51,29             10,96               0,98      0   2,39  \n",
       "3           61,31             10,56               7,45   3,76   1,76  \n",
       "4           55,71              18,2               0,59      0   2,56  \n",
       "5            76,3              9,53               1,47      0   1,26  \n",
       "6            75,7              5,18               8,82   4,77   1,15  "
      ]
     },
     "execution_count": 56,
     "metadata": {},
     "output_type": "execute_result"
    }
   ],
   "source": [
    "dataUpdate = pd.read_csv('losnavalmoralesUpdate.csv',sep=';',encoding='utf_16_le' )\n",
    "dataUpdate"
   ]
  },
  {
   "cell_type": "code",
   "execution_count": 57,
   "metadata": {},
   "outputs": [],
   "source": [
    "dataUpdate['Fecha']= pd.to_datetime(dataUpdate.Fecha, format='%d/%m/%Y')\n",
    "dataUpdate =dataUpdate.drop([\"IdProvincia\",\"IdEstacion\",\"Año\",\"Dia\"],axis=1);\n",
    "cols = dataUpdate.columns[dataUpdate.dtypes.eq('object')]\n",
    "for i in cols:\n",
    "    dataUpdate[i] = pd.to_numeric(dataUpdate[i].str.replace(',', '.'))"
   ]
  },
  {
   "cell_type": "code",
   "execution_count": 58,
   "metadata": {},
   "outputs": [
    {
     "data": {
      "text/plain": [
       "Temp Media (ºC)       float64\n",
       "Temp Max (ºC)         float64\n",
       "Temp Mínima (ºC)      float64\n",
       "Humedad Media (%)     float64\n",
       "Humedad Max (%)       float64\n",
       "Humedad Min (%)       float64\n",
       "Radiación (MJ/m2)     float64\n",
       "Precipitación (mm)    float64\n",
       "PePMon                float64\n",
       "EtPMon                float64\n",
       "dtype: object"
      ]
     },
     "execution_count": 58,
     "metadata": {},
     "output_type": "execute_result"
    }
   ],
   "source": [
    "dataUpdate = dataUpdate.set_index('Fecha');\n",
    "dataUpdate = dataUpdate.fillna(method='ffill')\n",
    "dataUpdate.dtypes"
   ]
  },
  {
   "cell_type": "code",
   "execution_count": 59,
   "metadata": {},
   "outputs": [
    {
     "data": {
      "text/html": [
       "<div>\n",
       "<style scoped>\n",
       "    .dataframe tbody tr th:only-of-type {\n",
       "        vertical-align: middle;\n",
       "    }\n",
       "\n",
       "    .dataframe tbody tr th {\n",
       "        vertical-align: top;\n",
       "    }\n",
       "\n",
       "    .dataframe thead th {\n",
       "        text-align: right;\n",
       "    }\n",
       "</style>\n",
       "<table border=\"1\" class=\"dataframe\">\n",
       "  <thead>\n",
       "    <tr style=\"text-align: right;\">\n",
       "      <th></th>\n",
       "      <th>Temp Media (ºC)</th>\n",
       "      <th>Temp Max (ºC)</th>\n",
       "      <th>Temp Mínima (ºC)</th>\n",
       "      <th>Humedad Media (%)</th>\n",
       "      <th>Humedad Max (%)</th>\n",
       "      <th>Humedad Min (%)</th>\n",
       "      <th>Radiación (MJ/m2)</th>\n",
       "      <th>Precipitación (mm)</th>\n",
       "      <th>PePMon</th>\n",
       "      <th>EtPMon</th>\n",
       "    </tr>\n",
       "    <tr>\n",
       "      <th>Fecha</th>\n",
       "      <th></th>\n",
       "      <th></th>\n",
       "      <th></th>\n",
       "      <th></th>\n",
       "      <th></th>\n",
       "      <th></th>\n",
       "      <th></th>\n",
       "      <th></th>\n",
       "      <th></th>\n",
       "      <th></th>\n",
       "    </tr>\n",
       "  </thead>\n",
       "  <tbody>\n",
       "    <tr>\n",
       "      <th>2018-03-04</th>\n",
       "      <td>8.29</td>\n",
       "      <td>12.64</td>\n",
       "      <td>5.34</td>\n",
       "      <td>80.60</td>\n",
       "      <td>95.4</td>\n",
       "      <td>50.51</td>\n",
       "      <td>12.84</td>\n",
       "      <td>7.64</td>\n",
       "      <td>3.90</td>\n",
       "      <td>2.13</td>\n",
       "    </tr>\n",
       "    <tr>\n",
       "      <th>2018-03-05</th>\n",
       "      <td>5.86</td>\n",
       "      <td>8.33</td>\n",
       "      <td>3.54</td>\n",
       "      <td>86.50</td>\n",
       "      <td>97.2</td>\n",
       "      <td>78.50</td>\n",
       "      <td>7.58</td>\n",
       "      <td>8.33</td>\n",
       "      <td>4.41</td>\n",
       "      <td>1.08</td>\n",
       "    </tr>\n",
       "    <tr>\n",
       "      <th>2018-03-06</th>\n",
       "      <td>6.05</td>\n",
       "      <td>8.79</td>\n",
       "      <td>3.95</td>\n",
       "      <td>80.80</td>\n",
       "      <td>90.6</td>\n",
       "      <td>69.72</td>\n",
       "      <td>9.60</td>\n",
       "      <td>1.37</td>\n",
       "      <td>0.00</td>\n",
       "      <td>1.47</td>\n",
       "    </tr>\n",
       "    <tr>\n",
       "      <th>2018-03-07</th>\n",
       "      <td>6.16</td>\n",
       "      <td>11.64</td>\n",
       "      <td>1.35</td>\n",
       "      <td>67.36</td>\n",
       "      <td>89.5</td>\n",
       "      <td>34.25</td>\n",
       "      <td>15.89</td>\n",
       "      <td>0.98</td>\n",
       "      <td>0.00</td>\n",
       "      <td>2.10</td>\n",
       "    </tr>\n",
       "    <tr>\n",
       "      <th>2018-03-08</th>\n",
       "      <td>6.83</td>\n",
       "      <td>9.92</td>\n",
       "      <td>3.41</td>\n",
       "      <td>97.10</td>\n",
       "      <td>98.9</td>\n",
       "      <td>90.80</td>\n",
       "      <td>5.53</td>\n",
       "      <td>3.63</td>\n",
       "      <td>0.71</td>\n",
       "      <td>0.81</td>\n",
       "    </tr>\n",
       "    <tr>\n",
       "      <th>2018-03-09</th>\n",
       "      <td>10.75</td>\n",
       "      <td>12.66</td>\n",
       "      <td>8.93</td>\n",
       "      <td>88.30</td>\n",
       "      <td>98.5</td>\n",
       "      <td>81.20</td>\n",
       "      <td>3.97</td>\n",
       "      <td>2.94</td>\n",
       "      <td>0.12</td>\n",
       "      <td>1.03</td>\n",
       "    </tr>\n",
       "    <tr>\n",
       "      <th>2018-03-10</th>\n",
       "      <td>10.46</td>\n",
       "      <td>12.79</td>\n",
       "      <td>6.73</td>\n",
       "      <td>82.90</td>\n",
       "      <td>98.1</td>\n",
       "      <td>65.70</td>\n",
       "      <td>6.80</td>\n",
       "      <td>19.40</td>\n",
       "      <td>11.92</td>\n",
       "      <td>1.63</td>\n",
       "    </tr>\n",
       "    <tr>\n",
       "      <th>2018-03-11</th>\n",
       "      <td>6.72</td>\n",
       "      <td>9.26</td>\n",
       "      <td>5.59</td>\n",
       "      <td>82.90</td>\n",
       "      <td>93.0</td>\n",
       "      <td>70.60</td>\n",
       "      <td>11.47</td>\n",
       "      <td>3.53</td>\n",
       "      <td>0.63</td>\n",
       "      <td>1.59</td>\n",
       "    </tr>\n",
       "    <tr>\n",
       "      <th>2018-03-12</th>\n",
       "      <td>8.07</td>\n",
       "      <td>11.38</td>\n",
       "      <td>6.01</td>\n",
       "      <td>73.10</td>\n",
       "      <td>89.7</td>\n",
       "      <td>53.64</td>\n",
       "      <td>13.97</td>\n",
       "      <td>0.20</td>\n",
       "      <td>0.00</td>\n",
       "      <td>2.29</td>\n",
       "    </tr>\n",
       "    <tr>\n",
       "      <th>2018-03-13</th>\n",
       "      <td>9.74</td>\n",
       "      <td>14.10</td>\n",
       "      <td>5.67</td>\n",
       "      <td>82.50</td>\n",
       "      <td>98.6</td>\n",
       "      <td>65.09</td>\n",
       "      <td>12.82</td>\n",
       "      <td>1.37</td>\n",
       "      <td>0.00</td>\n",
       "      <td>1.86</td>\n",
       "    </tr>\n",
       "    <tr>\n",
       "      <th>2018-03-14</th>\n",
       "      <td>9.67</td>\n",
       "      <td>12.85</td>\n",
       "      <td>5.60</td>\n",
       "      <td>87.60</td>\n",
       "      <td>96.4</td>\n",
       "      <td>79.20</td>\n",
       "      <td>5.98</td>\n",
       "      <td>16.86</td>\n",
       "      <td>10.28</td>\n",
       "      <td>1.27</td>\n",
       "    </tr>\n",
       "    <tr>\n",
       "      <th>2018-03-15</th>\n",
       "      <td>7.20</td>\n",
       "      <td>10.91</td>\n",
       "      <td>4.67</td>\n",
       "      <td>80.30</td>\n",
       "      <td>95.2</td>\n",
       "      <td>60.04</td>\n",
       "      <td>13.09</td>\n",
       "      <td>1.47</td>\n",
       "      <td>0.00</td>\n",
       "      <td>1.94</td>\n",
       "    </tr>\n",
       "    <tr>\n",
       "      <th>2018-03-16</th>\n",
       "      <td>5.66</td>\n",
       "      <td>9.46</td>\n",
       "      <td>3.22</td>\n",
       "      <td>78.70</td>\n",
       "      <td>91.6</td>\n",
       "      <td>54.86</td>\n",
       "      <td>13.21</td>\n",
       "      <td>0.69</td>\n",
       "      <td>0.00</td>\n",
       "      <td>1.93</td>\n",
       "    </tr>\n",
       "    <tr>\n",
       "      <th>2018-04-04</th>\n",
       "      <td>9.37</td>\n",
       "      <td>13.64</td>\n",
       "      <td>6.07</td>\n",
       "      <td>78.90</td>\n",
       "      <td>95.4</td>\n",
       "      <td>60.64</td>\n",
       "      <td>16.46</td>\n",
       "      <td>5.59</td>\n",
       "      <td>2.32</td>\n",
       "      <td>2.46</td>\n",
       "    </tr>\n",
       "    <tr>\n",
       "      <th>2018-04-05</th>\n",
       "      <td>11.60</td>\n",
       "      <td>16.75</td>\n",
       "      <td>5.47</td>\n",
       "      <td>68.74</td>\n",
       "      <td>86.7</td>\n",
       "      <td>52.96</td>\n",
       "      <td>22.51</td>\n",
       "      <td>0.00</td>\n",
       "      <td>0.00</td>\n",
       "      <td>3.20</td>\n",
       "    </tr>\n",
       "    <tr>\n",
       "      <th>2018-04-06</th>\n",
       "      <td>12.49</td>\n",
       "      <td>17.95</td>\n",
       "      <td>7.67</td>\n",
       "      <td>70.00</td>\n",
       "      <td>87.3</td>\n",
       "      <td>51.29</td>\n",
       "      <td>10.96</td>\n",
       "      <td>0.98</td>\n",
       "      <td>0.00</td>\n",
       "      <td>2.39</td>\n",
       "    </tr>\n",
       "    <tr>\n",
       "      <th>2018-04-07</th>\n",
       "      <td>7.59</td>\n",
       "      <td>12.17</td>\n",
       "      <td>5.61</td>\n",
       "      <td>87.80</td>\n",
       "      <td>97.9</td>\n",
       "      <td>61.31</td>\n",
       "      <td>10.56</td>\n",
       "      <td>7.45</td>\n",
       "      <td>3.76</td>\n",
       "      <td>1.76</td>\n",
       "    </tr>\n",
       "    <tr>\n",
       "      <th>2018-04-08</th>\n",
       "      <td>8.48</td>\n",
       "      <td>12.84</td>\n",
       "      <td>5.41</td>\n",
       "      <td>80.80</td>\n",
       "      <td>97.3</td>\n",
       "      <td>55.71</td>\n",
       "      <td>18.20</td>\n",
       "      <td>0.59</td>\n",
       "      <td>0.00</td>\n",
       "      <td>2.56</td>\n",
       "    </tr>\n",
       "    <tr>\n",
       "      <th>2018-04-09</th>\n",
       "      <td>4.78</td>\n",
       "      <td>6.27</td>\n",
       "      <td>2.55</td>\n",
       "      <td>85.80</td>\n",
       "      <td>95.5</td>\n",
       "      <td>76.30</td>\n",
       "      <td>9.53</td>\n",
       "      <td>1.47</td>\n",
       "      <td>0.00</td>\n",
       "      <td>1.26</td>\n",
       "    </tr>\n",
       "    <tr>\n",
       "      <th>2018-04-10</th>\n",
       "      <td>5.32</td>\n",
       "      <td>8.74</td>\n",
       "      <td>3.02</td>\n",
       "      <td>88.90</td>\n",
       "      <td>95.1</td>\n",
       "      <td>75.70</td>\n",
       "      <td>5.18</td>\n",
       "      <td>8.82</td>\n",
       "      <td>4.77</td>\n",
       "      <td>1.15</td>\n",
       "    </tr>\n",
       "  </tbody>\n",
       "</table>\n",
       "</div>"
      ],
      "text/plain": [
       "            Temp Media (ºC)  Temp Max (ºC)  Temp Mínima (ºC)  \\\n",
       "Fecha                                                          \n",
       "2018-03-04             8.29          12.64              5.34   \n",
       "2018-03-05             5.86           8.33              3.54   \n",
       "2018-03-06             6.05           8.79              3.95   \n",
       "2018-03-07             6.16          11.64              1.35   \n",
       "2018-03-08             6.83           9.92              3.41   \n",
       "2018-03-09            10.75          12.66              8.93   \n",
       "2018-03-10            10.46          12.79              6.73   \n",
       "2018-03-11             6.72           9.26              5.59   \n",
       "2018-03-12             8.07          11.38              6.01   \n",
       "2018-03-13             9.74          14.10              5.67   \n",
       "2018-03-14             9.67          12.85              5.60   \n",
       "2018-03-15             7.20          10.91              4.67   \n",
       "2018-03-16             5.66           9.46              3.22   \n",
       "2018-04-04             9.37          13.64              6.07   \n",
       "2018-04-05            11.60          16.75              5.47   \n",
       "2018-04-06            12.49          17.95              7.67   \n",
       "2018-04-07             7.59          12.17              5.61   \n",
       "2018-04-08             8.48          12.84              5.41   \n",
       "2018-04-09             4.78           6.27              2.55   \n",
       "2018-04-10             5.32           8.74              3.02   \n",
       "\n",
       "            Humedad Media (%)  Humedad Max (%)  Humedad Min (%)  \\\n",
       "Fecha                                                             \n",
       "2018-03-04              80.60             95.4            50.51   \n",
       "2018-03-05              86.50             97.2            78.50   \n",
       "2018-03-06              80.80             90.6            69.72   \n",
       "2018-03-07              67.36             89.5            34.25   \n",
       "2018-03-08              97.10             98.9            90.80   \n",
       "2018-03-09              88.30             98.5            81.20   \n",
       "2018-03-10              82.90             98.1            65.70   \n",
       "2018-03-11              82.90             93.0            70.60   \n",
       "2018-03-12              73.10             89.7            53.64   \n",
       "2018-03-13              82.50             98.6            65.09   \n",
       "2018-03-14              87.60             96.4            79.20   \n",
       "2018-03-15              80.30             95.2            60.04   \n",
       "2018-03-16              78.70             91.6            54.86   \n",
       "2018-04-04              78.90             95.4            60.64   \n",
       "2018-04-05              68.74             86.7            52.96   \n",
       "2018-04-06              70.00             87.3            51.29   \n",
       "2018-04-07              87.80             97.9            61.31   \n",
       "2018-04-08              80.80             97.3            55.71   \n",
       "2018-04-09              85.80             95.5            76.30   \n",
       "2018-04-10              88.90             95.1            75.70   \n",
       "\n",
       "            Radiación (MJ/m2)  Precipitación (mm)  PePMon  EtPMon  \n",
       "Fecha                                                              \n",
       "2018-03-04              12.84                7.64    3.90    2.13  \n",
       "2018-03-05               7.58                8.33    4.41    1.08  \n",
       "2018-03-06               9.60                1.37    0.00    1.47  \n",
       "2018-03-07              15.89                0.98    0.00    2.10  \n",
       "2018-03-08               5.53                3.63    0.71    0.81  \n",
       "2018-03-09               3.97                2.94    0.12    1.03  \n",
       "2018-03-10               6.80               19.40   11.92    1.63  \n",
       "2018-03-11              11.47                3.53    0.63    1.59  \n",
       "2018-03-12              13.97                0.20    0.00    2.29  \n",
       "2018-03-13              12.82                1.37    0.00    1.86  \n",
       "2018-03-14               5.98               16.86   10.28    1.27  \n",
       "2018-03-15              13.09                1.47    0.00    1.94  \n",
       "2018-03-16              13.21                0.69    0.00    1.93  \n",
       "2018-04-04              16.46                5.59    2.32    2.46  \n",
       "2018-04-05              22.51                0.00    0.00    3.20  \n",
       "2018-04-06              10.96                0.98    0.00    2.39  \n",
       "2018-04-07              10.56                7.45    3.76    1.76  \n",
       "2018-04-08              18.20                0.59    0.00    2.56  \n",
       "2018-04-09               9.53                1.47    0.00    1.26  \n",
       "2018-04-10               5.18                8.82    4.77    1.15  "
      ]
     },
     "execution_count": 59,
     "metadata": {},
     "output_type": "execute_result"
    }
   ],
   "source": [
    "\n",
    "dataFull=pd.concat([dataAll, dataUpdate])\n",
    "dataFull=dataFull.drop_duplicates(keep='first')\n",
    "dataFull.tail(20)"
   ]
  },
  {
   "cell_type": "code",
   "execution_count": 60,
   "metadata": {},
   "outputs": [],
   "source": [
    "dataFull.to_csv('losnavalmoralesFull.csv',sep=';',encoding='utf_16_le')\n",
    "os.remove(\"losnavalmoralesUpdate.csv\") "
   ]
  },
  {
   "cell_type": "markdown",
   "metadata": {
    "collapsed": true
   },
   "source": [
    "Por último se modifica el archivo de donde se obtienen los datos. Se debe descomentar la linea donde se cargan los datos ***losnavalmoralesFull*** para poder realizar la actualización automática."
   ]
  }
 ],
 "metadata": {
  "kernelspec": {
   "display_name": "Python 3",
   "language": "python",
   "name": "python3"
  },
  "language_info": {
   "codemirror_mode": {
    "name": "ipython",
    "version": 3
   },
   "file_extension": ".py",
   "mimetype": "text/x-python",
   "name": "python",
   "nbconvert_exporter": "python",
   "pygments_lexer": "ipython3",
   "version": "3.6.5"
  }
 },
 "nbformat": 4,
 "nbformat_minor": 2
}

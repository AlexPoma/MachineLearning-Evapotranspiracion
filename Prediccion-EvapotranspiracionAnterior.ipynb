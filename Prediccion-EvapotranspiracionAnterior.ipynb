{
 "cells": [
  {
   "cell_type": "markdown",
   "metadata": {},
   "source": [
    "# Predicción de la Evapotranspiración utilizando el valor anterior"
   ]
  },
  {
   "cell_type": "markdown",
   "metadata": {},
   "source": [
    "Este notebook se ha relaizado para intentar disminuir el error obtenido en el anterior, se prueban diferentes modelos de regesión lineal, árboles y redes neuronales, para ver como es el resultado.\n",
    "\n",
    "En el mejor modelo obtenemos un RMSE de 0,54 y con el realizamos las predicciones a 5 días y guardamos los resultados para su posterior comprobación. Hay que tener en cuenta que las predicciones que se obtienen de la AEMET y con las cuales se hace la predicción varían con el resultado real, por tanto hay que tener en cuenta que ya partimos de un error a la hora de obtención de los datos, ya que es muy difícil la previsión exacta cuando hablamos de variables climáticas.\n",
    "\n",
    "Aun así el objetivo de esta práctica era el de enfrentarse a un problema real y el resultado ha sido más que satisfactorio.\n",
    "\n",
    "Por último comentar que las previsiones a 5 días se guardan en la carpeta [predicciones](predicciones), y las previsiones acumuladas a un día se almacenan en el fichero [PrediccionesAcumulado.txt](PrediccionesAcumulado.txt)"
   ]
  },
  {
   "cell_type": "code",
   "execution_count": 1,
   "metadata": {},
   "outputs": [],
   "source": [
    "import pandas as pd\n",
    "import numpy as np\n",
    "import matplotlib.pylab as plt\n",
    "from sklearn.model_selection import train_test_split\n",
    "from sklearn import datasets, linear_model\n",
    "from sklearn.metrics import mean_squared_error, r2_score\n",
    "from math import sqrt\n",
    "from datetime import datetime\n",
    "%matplotlib inline\n",
    "from matplotlib.pylab import rcParams\n",
    "rcParams['figure.figsize'] = 15, 6"
   ]
  },
  {
   "cell_type": "code",
   "execution_count": 2,
   "metadata": {},
   "outputs": [
    {
     "data": {
      "text/html": [
       "<div>\n",
       "<style scoped>\n",
       "    .dataframe tbody tr th:only-of-type {\n",
       "        vertical-align: middle;\n",
       "    }\n",
       "\n",
       "    .dataframe tbody tr th {\n",
       "        vertical-align: top;\n",
       "    }\n",
       "\n",
       "    .dataframe thead th {\n",
       "        text-align: right;\n",
       "    }\n",
       "</style>\n",
       "<table border=\"1\" class=\"dataframe\">\n",
       "  <thead>\n",
       "    <tr style=\"text-align: right;\">\n",
       "      <th></th>\n",
       "      <th>Fecha</th>\n",
       "      <th>Temp Media (ºC)</th>\n",
       "      <th>Temp Max (ºC)</th>\n",
       "      <th>Temp Mínima (ºC)</th>\n",
       "      <th>Humedad Media (%)</th>\n",
       "      <th>Humedad Max (%)</th>\n",
       "      <th>Humedad Min (%)</th>\n",
       "      <th>Radiación (MJ/m2)</th>\n",
       "      <th>Precipitación (mm)</th>\n",
       "      <th>PePMon</th>\n",
       "      <th>EtPMon</th>\n",
       "    </tr>\n",
       "  </thead>\n",
       "  <tbody>\n",
       "    <tr>\n",
       "      <th>0</th>\n",
       "      <td>2001-01-01</td>\n",
       "      <td>9.36</td>\n",
       "      <td>11.89</td>\n",
       "      <td>7.64</td>\n",
       "      <td>86.0</td>\n",
       "      <td>95.9</td>\n",
       "      <td>77.70</td>\n",
       "      <td>3.77</td>\n",
       "      <td>6.8</td>\n",
       "      <td>3.26</td>\n",
       "      <td>0.99</td>\n",
       "    </tr>\n",
       "    <tr>\n",
       "      <th>1</th>\n",
       "      <td>2001-01-02</td>\n",
       "      <td>7.78</td>\n",
       "      <td>10.22</td>\n",
       "      <td>6.11</td>\n",
       "      <td>78.8</td>\n",
       "      <td>92.8</td>\n",
       "      <td>62.15</td>\n",
       "      <td>6.92</td>\n",
       "      <td>7.2</td>\n",
       "      <td>3.56</td>\n",
       "      <td>1.37</td>\n",
       "    </tr>\n",
       "    <tr>\n",
       "      <th>2</th>\n",
       "      <td>2001-01-03</td>\n",
       "      <td>7.90</td>\n",
       "      <td>9.70</td>\n",
       "      <td>6.18</td>\n",
       "      <td>82.3</td>\n",
       "      <td>90.3</td>\n",
       "      <td>72.50</td>\n",
       "      <td>3.77</td>\n",
       "      <td>3.4</td>\n",
       "      <td>0.52</td>\n",
       "      <td>1.10</td>\n",
       "    </tr>\n",
       "    <tr>\n",
       "      <th>3</th>\n",
       "      <td>2001-01-04</td>\n",
       "      <td>10.25</td>\n",
       "      <td>12.36</td>\n",
       "      <td>8.69</td>\n",
       "      <td>76.3</td>\n",
       "      <td>88.5</td>\n",
       "      <td>63.95</td>\n",
       "      <td>6.32</td>\n",
       "      <td>0.0</td>\n",
       "      <td>0.00</td>\n",
       "      <td>1.53</td>\n",
       "    </tr>\n",
       "    <tr>\n",
       "      <th>4</th>\n",
       "      <td>2001-01-05</td>\n",
       "      <td>13.12</td>\n",
       "      <td>15.54</td>\n",
       "      <td>8.83</td>\n",
       "      <td>85.7</td>\n",
       "      <td>94.9</td>\n",
       "      <td>77.90</td>\n",
       "      <td>3.75</td>\n",
       "      <td>4.6</td>\n",
       "      <td>1.52</td>\n",
       "      <td>1.31</td>\n",
       "    </tr>\n",
       "  </tbody>\n",
       "</table>\n",
       "</div>"
      ],
      "text/plain": [
       "        Fecha  Temp Media (ºC)  Temp Max (ºC)  Temp Mínima (ºC)  \\\n",
       "0  2001-01-01             9.36          11.89              7.64   \n",
       "1  2001-01-02             7.78          10.22              6.11   \n",
       "2  2001-01-03             7.90           9.70              6.18   \n",
       "3  2001-01-04            10.25          12.36              8.69   \n",
       "4  2001-01-05            13.12          15.54              8.83   \n",
       "\n",
       "   Humedad Media (%)  Humedad Max (%)  Humedad Min (%)  Radiación (MJ/m2)  \\\n",
       "0               86.0             95.9            77.70               3.77   \n",
       "1               78.8             92.8            62.15               6.92   \n",
       "2               82.3             90.3            72.50               3.77   \n",
       "3               76.3             88.5            63.95               6.32   \n",
       "4               85.7             94.9            77.90               3.75   \n",
       "\n",
       "   Precipitación (mm)  PePMon  EtPMon  \n",
       "0                 6.8    3.26    0.99  \n",
       "1                 7.2    3.56    1.37  \n",
       "2                 3.4    0.52    1.10  \n",
       "3                 0.0    0.00    1.53  \n",
       "4                 4.6    1.52    1.31  "
      ]
     },
     "execution_count": 2,
     "metadata": {},
     "output_type": "execute_result"
    }
   ],
   "source": [
    "data = pd.read_csv('losnavalmoralesFull.csv',sep=';',encoding='utf_16_le' )\n",
    "#data = pd.read_csv('losnavalmorales.csv',sep=';',encoding='utf_16_le' )  #Version con datos sin tratar, comentar el de arriba\n",
    "data.head(5)"
   ]
  },
  {
   "cell_type": "code",
   "execution_count": 3,
   "metadata": {},
   "outputs": [
    {
     "data": {
      "text/html": [
       "<div>\n",
       "<style scoped>\n",
       "    .dataframe tbody tr th:only-of-type {\n",
       "        vertical-align: middle;\n",
       "    }\n",
       "\n",
       "    .dataframe tbody tr th {\n",
       "        vertical-align: top;\n",
       "    }\n",
       "\n",
       "    .dataframe thead th {\n",
       "        text-align: right;\n",
       "    }\n",
       "</style>\n",
       "<table border=\"1\" class=\"dataframe\">\n",
       "  <thead>\n",
       "    <tr style=\"text-align: right;\">\n",
       "      <th></th>\n",
       "      <th>Fecha</th>\n",
       "      <th>Temp Media (ºC)</th>\n",
       "      <th>Temp Max (ºC)</th>\n",
       "      <th>Temp Mínima (ºC)</th>\n",
       "      <th>Humedad Media (%)</th>\n",
       "      <th>Humedad Max (%)</th>\n",
       "      <th>Humedad Min (%)</th>\n",
       "      <th>Radiación (MJ/m2)</th>\n",
       "      <th>Precipitación (mm)</th>\n",
       "      <th>PePMon</th>\n",
       "      <th>EtPMon</th>\n",
       "    </tr>\n",
       "  </thead>\n",
       "  <tbody>\n",
       "    <tr>\n",
       "      <th>6261</th>\n",
       "      <td>2018-04-06</td>\n",
       "      <td>12.49</td>\n",
       "      <td>17.95</td>\n",
       "      <td>7.67</td>\n",
       "      <td>70.0</td>\n",
       "      <td>87.3</td>\n",
       "      <td>51.29</td>\n",
       "      <td>10.96</td>\n",
       "      <td>0.98</td>\n",
       "      <td>0.00</td>\n",
       "      <td>2.39</td>\n",
       "    </tr>\n",
       "    <tr>\n",
       "      <th>6262</th>\n",
       "      <td>2018-04-07</td>\n",
       "      <td>7.59</td>\n",
       "      <td>12.17</td>\n",
       "      <td>5.61</td>\n",
       "      <td>87.8</td>\n",
       "      <td>97.9</td>\n",
       "      <td>61.31</td>\n",
       "      <td>10.56</td>\n",
       "      <td>7.45</td>\n",
       "      <td>3.76</td>\n",
       "      <td>1.76</td>\n",
       "    </tr>\n",
       "    <tr>\n",
       "      <th>6263</th>\n",
       "      <td>2018-04-08</td>\n",
       "      <td>8.48</td>\n",
       "      <td>12.84</td>\n",
       "      <td>5.41</td>\n",
       "      <td>80.8</td>\n",
       "      <td>97.3</td>\n",
       "      <td>55.71</td>\n",
       "      <td>18.20</td>\n",
       "      <td>0.59</td>\n",
       "      <td>0.00</td>\n",
       "      <td>2.56</td>\n",
       "    </tr>\n",
       "    <tr>\n",
       "      <th>6264</th>\n",
       "      <td>2018-04-09</td>\n",
       "      <td>4.78</td>\n",
       "      <td>6.27</td>\n",
       "      <td>2.55</td>\n",
       "      <td>85.8</td>\n",
       "      <td>95.5</td>\n",
       "      <td>76.30</td>\n",
       "      <td>9.53</td>\n",
       "      <td>1.47</td>\n",
       "      <td>0.00</td>\n",
       "      <td>1.26</td>\n",
       "    </tr>\n",
       "    <tr>\n",
       "      <th>6265</th>\n",
       "      <td>2018-04-10</td>\n",
       "      <td>5.32</td>\n",
       "      <td>8.74</td>\n",
       "      <td>3.02</td>\n",
       "      <td>88.9</td>\n",
       "      <td>95.1</td>\n",
       "      <td>75.70</td>\n",
       "      <td>5.18</td>\n",
       "      <td>8.82</td>\n",
       "      <td>4.77</td>\n",
       "      <td>1.15</td>\n",
       "    </tr>\n",
       "  </tbody>\n",
       "</table>\n",
       "</div>"
      ],
      "text/plain": [
       "           Fecha  Temp Media (ºC)  Temp Max (ºC)  Temp Mínima (ºC)  \\\n",
       "6261  2018-04-06            12.49          17.95              7.67   \n",
       "6262  2018-04-07             7.59          12.17              5.61   \n",
       "6263  2018-04-08             8.48          12.84              5.41   \n",
       "6264  2018-04-09             4.78           6.27              2.55   \n",
       "6265  2018-04-10             5.32           8.74              3.02   \n",
       "\n",
       "      Humedad Media (%)  Humedad Max (%)  Humedad Min (%)  Radiación (MJ/m2)  \\\n",
       "6261               70.0             87.3            51.29              10.96   \n",
       "6262               87.8             97.9            61.31              10.56   \n",
       "6263               80.8             97.3            55.71              18.20   \n",
       "6264               85.8             95.5            76.30               9.53   \n",
       "6265               88.9             95.1            75.70               5.18   \n",
       "\n",
       "      Precipitación (mm)  PePMon  EtPMon  \n",
       "6261                0.98    0.00    2.39  \n",
       "6262                7.45    3.76    1.76  \n",
       "6263                0.59    0.00    2.56  \n",
       "6264                1.47    0.00    1.26  \n",
       "6265                8.82    4.77    1.15  "
      ]
     },
     "execution_count": 3,
     "metadata": {},
     "output_type": "execute_result"
    }
   ],
   "source": [
    "data.tail(5)"
   ]
  },
  {
   "cell_type": "code",
   "execution_count": 4,
   "metadata": {},
   "outputs": [
    {
     "data": {
      "text/plain": [
       "Temp Media (ºC)       float64\n",
       "Temp Max (ºC)         float64\n",
       "Temp Mínima (ºC)      float64\n",
       "Humedad Media (%)     float64\n",
       "Humedad Max (%)       float64\n",
       "Humedad Min (%)       float64\n",
       "Radiación (MJ/m2)     float64\n",
       "Precipitación (mm)    float64\n",
       "PePMon                float64\n",
       "EtPMon                float64\n",
       "dtype: object"
      ]
     },
     "execution_count": 4,
     "metadata": {},
     "output_type": "execute_result"
    }
   ],
   "source": [
    "data['Fecha']= pd.to_datetime(data.Fecha, format='%Y/%m/%d')\n",
    "#dataUpdate =dataUpdate.drop([\"IdProvincia\",\"IdEstacion\",\"Año\",\"Dia\"],axis=1); # Version con datos sin tratar, descomentar.\n",
    "cols = data.columns[data.dtypes.eq('object')]\n",
    "for i in cols:\n",
    "    data[i] = pd.to_numeric(data[i].str.replace(',', '.'))\n",
    "\n",
    "data = data.fillna(method='ffill')\n",
    "data = data.set_index('Fecha');\n",
    "data.dtypes "
   ]
  },
  {
   "cell_type": "code",
   "execution_count": 5,
   "metadata": {},
   "outputs": [
    {
     "name": "stderr",
     "output_type": "stream",
     "text": [
      "C:\\Users\\Pablo\\Anaconda3\\lib\\site-packages\\ipykernel_launcher.py:5: SettingWithCopyWarning: \n",
      "A value is trying to be set on a copy of a slice from a DataFrame\n",
      "\n",
      "See the caveats in the documentation: http://pandas.pydata.org/pandas-docs/stable/indexing.html#indexing-view-versus-copy\n",
      "  \"\"\"\n"
     ]
    },
    {
     "data": {
      "text/html": [
       "<div>\n",
       "<style scoped>\n",
       "    .dataframe tbody tr th:only-of-type {\n",
       "        vertical-align: middle;\n",
       "    }\n",
       "\n",
       "    .dataframe tbody tr th {\n",
       "        vertical-align: top;\n",
       "    }\n",
       "\n",
       "    .dataframe thead th {\n",
       "        text-align: right;\n",
       "    }\n",
       "</style>\n",
       "<table border=\"1\" class=\"dataframe\">\n",
       "  <thead>\n",
       "    <tr style=\"text-align: right;\">\n",
       "      <th></th>\n",
       "      <th>Temp Media (ºC)</th>\n",
       "      <th>Temp Max (ºC)</th>\n",
       "      <th>Temp Mínima (ºC)</th>\n",
       "      <th>Humedad Media (%)</th>\n",
       "      <th>Humedad Max (%)</th>\n",
       "      <th>Humedad Min (%)</th>\n",
       "      <th>Precipitación (mm)</th>\n",
       "      <th>EtPMonAnterior</th>\n",
       "    </tr>\n",
       "    <tr>\n",
       "      <th>Fecha</th>\n",
       "      <th></th>\n",
       "      <th></th>\n",
       "      <th></th>\n",
       "      <th></th>\n",
       "      <th></th>\n",
       "      <th></th>\n",
       "      <th></th>\n",
       "      <th></th>\n",
       "    </tr>\n",
       "  </thead>\n",
       "  <tbody>\n",
       "    <tr>\n",
       "      <th>2018-04-08</th>\n",
       "      <td>8.48</td>\n",
       "      <td>12.84</td>\n",
       "      <td>5.41</td>\n",
       "      <td>80.8</td>\n",
       "      <td>97.3</td>\n",
       "      <td>55.71</td>\n",
       "      <td>1</td>\n",
       "      <td>1.76</td>\n",
       "    </tr>\n",
       "    <tr>\n",
       "      <th>2018-04-09</th>\n",
       "      <td>4.78</td>\n",
       "      <td>6.27</td>\n",
       "      <td>2.55</td>\n",
       "      <td>85.8</td>\n",
       "      <td>95.5</td>\n",
       "      <td>76.30</td>\n",
       "      <td>1</td>\n",
       "      <td>2.56</td>\n",
       "    </tr>\n",
       "    <tr>\n",
       "      <th>2018-04-10</th>\n",
       "      <td>5.32</td>\n",
       "      <td>8.74</td>\n",
       "      <td>3.02</td>\n",
       "      <td>88.9</td>\n",
       "      <td>95.1</td>\n",
       "      <td>75.70</td>\n",
       "      <td>1</td>\n",
       "      <td>1.26</td>\n",
       "    </tr>\n",
       "  </tbody>\n",
       "</table>\n",
       "</div>"
      ],
      "text/plain": [
       "            Temp Media (ºC)  Temp Max (ºC)  Temp Mínima (ºC)  \\\n",
       "Fecha                                                          \n",
       "2018-04-08             8.48          12.84              5.41   \n",
       "2018-04-09             4.78           6.27              2.55   \n",
       "2018-04-10             5.32           8.74              3.02   \n",
       "\n",
       "            Humedad Media (%)  Humedad Max (%)  Humedad Min (%)  \\\n",
       "Fecha                                                             \n",
       "2018-04-08               80.8             97.3            55.71   \n",
       "2018-04-09               85.8             95.5            76.30   \n",
       "2018-04-10               88.9             95.1            75.70   \n",
       "\n",
       "            Precipitación (mm)  EtPMonAnterior  \n",
       "Fecha                                           \n",
       "2018-04-08                   1            1.76  \n",
       "2018-04-09                   1            2.56  \n",
       "2018-04-10                   1            1.26  "
      ]
     },
     "execution_count": 5,
     "metadata": {},
     "output_type": "execute_result"
    }
   ],
   "source": [
    "elements = data['Precipitación (mm)'].values\n",
    "elements_ok = [1 if element > 0 else 0 for element in elements]\n",
    "data['Precipitación (mm)'] = elements_ok\n",
    "data['EtPMonAnterior'] = data['EtPMon']\n",
    "data['EtPMonAnterior'][1:] = data['EtPMon'][0:-1]\n",
    "labels=data[\"EtPMon\"][1:]\n",
    "data_red = data.drop(['Radiación (MJ/m2)','PePMon'],axis=1);\n",
    "data_red.to_csv('losnavalmoralesFullEtOAnterior.csv',sep=';',encoding='utf_16_le')\n",
    "data_red = data.drop(['Radiación (MJ/m2)','PePMon','EtPMon'],axis=1);\n",
    "data_red = data_red.drop(data_red.index[0])\n",
    "data_red.tail(3)\n"
   ]
  },
  {
   "cell_type": "markdown",
   "metadata": {},
   "source": [
    "### Regresión lineal"
   ]
  },
  {
   "cell_type": "code",
   "execution_count": 6,
   "metadata": {},
   "outputs": [
    {
     "name": "stdout",
     "output_type": "stream",
     "text": [
      "Root Mean squared error: 0.59\n",
      "Variance score: 0.94\n"
     ]
    }
   ],
   "source": [
    "X_train,X_test,Y_train,Y_test = train_test_split(data_red,labels,test_size=0.20,random_state=20)\n",
    "regr = linear_model.LinearRegression()\n",
    "regr.fit(X_train, Y_train)\n",
    "prediction = regr.predict(X_test)\n",
    "print(\"Root Mean squared error: %.2f\"\n",
    "      % sqrt(mean_squared_error(Y_test, prediction)))\n",
    "print('Variance score: %.2f' % r2_score(Y_test, prediction))"
   ]
  },
  {
   "cell_type": "markdown",
   "metadata": {},
   "source": [
    "### Elastic Net"
   ]
  },
  {
   "cell_type": "code",
   "execution_count": 7,
   "metadata": {},
   "outputs": [
    {
     "name": "stdout",
     "output_type": "stream",
     "text": [
      "Root Mean squared error: 0.76\n",
      "Variance score: 0.90\n"
     ]
    }
   ],
   "source": [
    "from sklearn.linear_model import ElasticNet\n",
    "regr = ElasticNet(random_state=0)\n",
    "regr.fit(X_train, Y_train)\n",
    "prediction = regr.predict(X_test)\n",
    "print(\"Root Mean squared error: %.2f\"\n",
    "      % sqrt(mean_squared_error(Y_test, prediction)))\n",
    "print('Variance score: %.2f' % r2_score(Y_test, prediction))"
   ]
  },
  {
   "cell_type": "markdown",
   "metadata": {},
   "source": [
    "### Ridge\n"
   ]
  },
  {
   "cell_type": "code",
   "execution_count": 8,
   "metadata": {},
   "outputs": [
    {
     "name": "stdout",
     "output_type": "stream",
     "text": [
      "Root Mean squared error: 0.59\n",
      "Variance score: 0.94\n"
     ]
    }
   ],
   "source": [
    "from sklearn.linear_model import Ridge\n",
    "clf = Ridge(alpha=1.0)\n",
    "clf.fit(X_train, Y_train) \n",
    "prediction = clf.predict(X_test)\n",
    "print(\"Root Mean squared error: %.2f\"\n",
    "      % sqrt(mean_squared_error(Y_test, prediction)))\n",
    "print('Variance score: %.2f' % r2_score(Y_test, prediction))"
   ]
  },
  {
   "cell_type": "markdown",
   "metadata": {},
   "source": [
    "### Lasso"
   ]
  },
  {
   "cell_type": "code",
   "execution_count": 9,
   "metadata": {},
   "outputs": [
    {
     "name": "stdout",
     "output_type": "stream",
     "text": [
      "Root Mean squared error: 0.60\n",
      "Variance score: 0.94\n"
     ]
    }
   ],
   "source": [
    "regr = linear_model.Lasso(alpha=0.1)\n",
    "regr.fit(X_train, Y_train)\n",
    "prediction = regr.predict(X_test)\n",
    "print(\"Root Mean squared error: %.2f\"\n",
    "      % sqrt(mean_squared_error(Y_test, prediction)))\n",
    "print('Variance score: %.2f' % r2_score(Y_test, prediction))"
   ]
  },
  {
   "cell_type": "markdown",
   "metadata": {},
   "source": [
    "### Árboles de decisión\n"
   ]
  },
  {
   "cell_type": "code",
   "execution_count": 10,
   "metadata": {},
   "outputs": [
    {
     "name": "stdout",
     "output_type": "stream",
     "text": [
      "MSE: 0.28999526656\n",
      "RMSE: 0.5385120858070461\n",
      "Variance score: 0.95\n"
     ]
    }
   ],
   "source": [
    "from sklearn.model_selection import cross_val_score\n",
    "from sklearn.tree import DecisionTreeRegressor\n",
    "from sklearn.ensemble import RandomForestRegressor\n",
    "#regressor = DecisionTreeRegressor(random_state=0)\n",
    "regressor = RandomForestRegressor(criterion='mse')\n",
    "regressor.fit(X_train,Y_train)\n",
    "modelPred = regressor.predict(X_test)\n",
    "meanSquaredError=mean_squared_error(Y_test, modelPred)\n",
    "print(\"MSE:\", meanSquaredError)\n",
    "rootMeanSquaredError = sqrt(meanSquaredError)\n",
    "print(\"RMSE:\", rootMeanSquaredError)\n",
    "print('Variance score: %.2f' % r2_score(Y_test, modelPred))"
   ]
  },
  {
   "cell_type": "code",
   "execution_count": 11,
   "metadata": {},
   "outputs": [],
   "source": [
    "testplot = Y_test.reset_index()\n",
    "testplot=testplot.drop(['Fecha'],axis=1);\n",
    "modelPred2 = pd.DataFrame(modelPred)"
   ]
  },
  {
   "cell_type": "markdown",
   "metadata": {},
   "source": [
    "### Hyperparameters tunning"
   ]
  },
  {
   "cell_type": "code",
   "execution_count": 12,
   "metadata": {},
   "outputs": [
    {
     "data": {
      "text/plain": [
       "0.5593061756306723"
      ]
     },
     "execution_count": 12,
     "metadata": {},
     "output_type": "execute_result"
    }
   ],
   "source": [
    "from sklearn.model_selection import cross_val_score, cross_val_predict\n",
    "scores = cross_val_score(regressor, data_red, labels, cv=10,scoring='neg_mean_squared_error')\n",
    "sqrt(- scores.mean())"
   ]
  },
  {
   "cell_type": "code",
   "execution_count": 13,
   "metadata": {},
   "outputs": [
    {
     "data": {
      "image/png": "[encoded data removed]",
      "text/plain": [
       "<Figure size 432x288 with 1 Axes>"
      ]
     },
     "metadata": {},
     "output_type": "display_data"
    }
   ],
   "source": [
    "# plot\n",
    "i= 1000\n",
    "j= 1040\n",
    "plt.plot(testplot[i:j])\n",
    "plt.plot(modelPred2[i:j], color='red')\n",
    "plt.show()\n"
   ]
  },
  {
   "cell_type": "markdown",
   "metadata": {},
   "source": [
    "### Redes Neuronales"
   ]
  },
  {
   "cell_type": "code",
   "execution_count": 14,
   "metadata": {
    "scrolled": true
   },
   "outputs": [
    {
     "name": "stdout",
     "output_type": "stream",
     "text": [
      "MSE: 0.353799820274\n",
      "RMSE: 0.594810743240174\n",
      "Variance score: 0.94\n"
     ]
    },
    {
     "data": {
      "text/plain": [
       "array([ 1.23496157,  2.50293084,  5.18389716, ...,  4.8231965 ,\n",
       "        1.69428587,  3.40902951])"
      ]
     },
     "execution_count": 14,
     "metadata": {},
     "output_type": "execute_result"
    }
   ],
   "source": [
    "from sklearn.neural_network import MLPRegressor\n",
    "clf = MLPRegressor(\n",
    "    hidden_layer_sizes=(10,),  activation='relu', solver='adam', alpha=0.001, batch_size='auto',\n",
    "    learning_rate='constant', learning_rate_init=0.01, power_t=0.5, max_iter=100000, shuffle=True,\n",
    "    random_state=9, tol=0.0001, verbose=False, warm_start=False, momentum=0.9, nesterovs_momentum=True,\n",
    "    early_stopping=False, validation_fraction=0.1, beta_1=0.9, beta_2=0.999, epsilon=1e-08)\n",
    "\n",
    "clf.fit(X_train, Y_train)\n",
    "modelPred = clf.predict(X_test)\n",
    "meanSquaredError=mean_squared_error(Y_test, modelPred)\n",
    "print(\"MSE:\", meanSquaredError)\n",
    "rootMeanSquaredError = sqrt(meanSquaredError)\n",
    "print(\"RMSE:\", rootMeanSquaredError)\n",
    "print('Variance score: %.2f' % r2_score(Y_test, modelPred))\n",
    "modelPred"
   ]
  },
  {
   "cell_type": "markdown",
   "metadata": {},
   "source": [
    "### WebScrapping Aemet"
   ]
  },
  {
   "cell_type": "code",
   "execution_count": 15,
   "metadata": {},
   "outputs": [
    {
     "name": "stdout",
     "output_type": "stream",
     "text": [
      "Prevision:  2018-04-11\n",
      "Temperatura Max: 13.0\n",
      "Temperatura Min: 2.0\n",
      "Temperatura Med: 7.5\n",
      "Humedad Max: 95.0\n",
      "Humedad Min: 40.0\n",
      "Humedad Med: 67.5\n",
      "Precipitacion: 0\n"
     ]
    }
   ],
   "source": [
    "from lxml import etree\n",
    "doc = etree.parse('http://www.aemet.es/xml/municipios/localidad_45112.xml')\n",
    "raiz=doc.getroot()\n",
    "prediccion = raiz[4]\n",
    "#dia = prediccion[1] # Para coger la prevision de mañana.\n",
    "dia = prediccion[0] # Para coger la prevision de hoy.\n",
    "fecha=dia.get('fecha')\n",
    "temperatura=dia.find(\"temperatura\")\n",
    "probprecipitacion=dia.find(\"prob_precipitacion\")\n",
    "temperaturaMax=float(temperatura.find(\"maxima\").text)\n",
    "temperaturaMin=float(temperatura.find(\"minima\").text)\n",
    "humedad=dia.find(\"humedad_relativa\")\n",
    "humedadMax=float(humedad.find(\"maxima\").text)\n",
    "humedadMin=float(humedad.find(\"minima\").text)\n",
    "humedadMed=((humedadMax)+(humedadMin))/2\n",
    "temperaturaMed=((temperaturaMax)+(temperaturaMin))/2\n",
    "precipitacion= 0 if probprecipitacion.text == None else int(probprecipitacion.text)\n",
    "precipitaciondummy = 1 if precipitacion > 60 else 0\n",
    "print(\"Prevision: \",fecha)\n",
    "print(\"Temperatura Max:\",temperaturaMax)\n",
    "print(\"Temperatura Min:\",temperaturaMin)\n",
    "print(\"Temperatura Med:\",temperaturaMed)\n",
    "print(\"Humedad Max:\",humedadMax)\n",
    "print(\"Humedad Min:\",humedadMin)\n",
    "print(\"Humedad Med:\",humedadMed)\n",
    "print(\"Precipitacion:\",precipitaciondummy)\n"
   ]
  },
  {
   "cell_type": "code",
   "execution_count": 16,
   "metadata": {},
   "outputs": [
    {
     "data": {
      "text/plain": [
       "1.1499999999999999"
      ]
     },
     "execution_count": 16,
     "metadata": {},
     "output_type": "execute_result"
    }
   ],
   "source": [
    "#TODO Coger por indice\n",
    "etAnterior = data['EtPMon'][-1]\n",
    "etAnterior"
   ]
  },
  {
   "cell_type": "code",
   "execution_count": 17,
   "metadata": {},
   "outputs": [
    {
     "data": {
      "text/html": [
       "<div>\n",
       "<style scoped>\n",
       "    .dataframe tbody tr th:only-of-type {\n",
       "        vertical-align: middle;\n",
       "    }\n",
       "\n",
       "    .dataframe tbody tr th {\n",
       "        vertical-align: top;\n",
       "    }\n",
       "\n",
       "    .dataframe thead th {\n",
       "        text-align: right;\n",
       "    }\n",
       "</style>\n",
       "<table border=\"1\" class=\"dataframe\">\n",
       "  <thead>\n",
       "    <tr style=\"text-align: right;\">\n",
       "      <th></th>\n",
       "      <th>Temp Media (ºC)</th>\n",
       "      <th>Temp Max (ºC)</th>\n",
       "      <th>Temp Minima (ºC)</th>\n",
       "      <th>Humedad Media (%)</th>\n",
       "      <th>Humedad Max (%)</th>\n",
       "      <th>Humedad Min (%)</th>\n",
       "      <th>Precipitación (mm)</th>\n",
       "      <th>EtPMonAnterior</th>\n",
       "    </tr>\n",
       "  </thead>\n",
       "  <tbody>\n",
       "    <tr>\n",
       "      <th>2018-04-11</th>\n",
       "      <td>7.5</td>\n",
       "      <td>13.0</td>\n",
       "      <td>2.0</td>\n",
       "      <td>67.5</td>\n",
       "      <td>95.0</td>\n",
       "      <td>40.0</td>\n",
       "      <td>0</td>\n",
       "      <td>1.15</td>\n",
       "    </tr>\n",
       "  </tbody>\n",
       "</table>\n",
       "</div>"
      ],
      "text/plain": [
       "            Temp Media (ºC)  Temp Max (ºC)  Temp Minima (ºC)  \\\n",
       "2018-04-11              7.5           13.0               2.0   \n",
       "\n",
       "            Humedad Media (%)  Humedad Max (%)  Humedad Min (%)  \\\n",
       "2018-04-11               67.5             95.0             40.0   \n",
       "\n",
       "            Precipitación (mm)  EtPMonAnterior  \n",
       "2018-04-11                   0            1.15  "
      ]
     },
     "execution_count": 17,
     "metadata": {},
     "output_type": "execute_result"
    }
   ],
   "source": [
    "d = pd.DataFrame.from_items([(fecha,[temperaturaMed,temperaturaMax,temperaturaMin,humedadMed,humedadMax,humedadMin,precipitaciondummy,etAnterior])],orient='index', columns=(['Temp Media (ºC)','Temp Max (ºC)','Temp Minima (ºC)','Humedad Media (%)','Humedad Max (%)','Humedad Min (%)','Precipitación (mm)','EtPMonAnterior']))\n",
    "d.dtypes\n",
    "d"
   ]
  },
  {
   "cell_type": "code",
   "execution_count": 18,
   "metadata": {},
   "outputs": [
    {
     "name": "stdout",
     "output_type": "stream",
     "text": [
      "Prediccion de la evapotranspiracion de referencia para el dia 2018-04-11 : 1.734\n"
     ]
    }
   ],
   "source": [
    "regressor = RandomForestRegressor(criterion='mse')\n",
    "regressor.fit(X_train,Y_train)\n",
    "prediction = regressor.predict(d)\n",
    "print(\"Prediccion de la evapotranspiracion de referencia para el dia\",fecha,\":\",prediction[0])"
   ]
  },
  {
   "cell_type": "code",
   "execution_count": 19,
   "metadata": {},
   "outputs": [],
   "source": [
    "file = open(\"PrediccionesAcumulado.txt\",\"a\")\n",
    "file.write(\"Prediccion de la evapotranspiracion de referencia para el dia \"+str(fecha)+\"; \"+str(prediction[0]))\n",
    "file.write(\"\\n\");\n",
    "file.close()"
   ]
  },
  {
   "cell_type": "code",
   "execution_count": 20,
   "metadata": {},
   "outputs": [],
   "source": [
    "indice = d.index[0]\n",
    "indice =  \"predicciones\\\\\" + \"prediccion\" + indice + \".csv\" #Windows\n",
    "file = open(indice,\"w\")\n",
    "file.write(\"Fecha;Temperatura Max;Temperatura Min;Temperatura Med;Humedad Max;Humedad Min;Humedad Med;Precipitacion;EvapotranspiracionAnterior;Prediccion\"+\"\\n\")\n",
    "file.write(fecha+\";\")\n",
    "file.write(str(temperaturaMax)+\";\")\n",
    "file.write(str(temperaturaMin)+\";\")\n",
    "file.write(str(temperaturaMed)+\";\")\n",
    "file.write(str(humedadMax)+\";\")\n",
    "file.write(str(humedadMin)+\";\")\n",
    "file.write(str(humedadMed)+\";\")\n",
    "file.write(str(precipitaciondummy)+\";\")\n",
    "file.write(str(etAnterior)+\";\")\n",
    "file.write(str(prediction[0]))\n",
    "#file.write(\"Prevision: \"+fecha+\"\\n\")\n",
    "#file.write(\"Temperatura Max: \"+str(temperaturaMax)+\"\\n\")\n",
    "#file.write(\"Temperatura Min: \"+str(temperaturaMin)+\"\\n\")\n",
    "#file.write(\"Temperatura Med: \"+str(temperaturaMed)+\"\\n\")\n",
    "#file.write(\"Humedad Max: \"+str(humedadMax)+\"\\n\")\n",
    "#file.write(\"Humedad Min: \"+str(humedadMin)+\"\\n\")\n",
    "#file.write(\"Humedad Med: \"+str(humedadMed)+\"\\n\")\n",
    "#file.write(\"Precipitacion: \"+str(precipitaciondummy)+\"\\n\")\n",
    "#file.write(\"Evapotranspiracion del dia anterior: \"+str(etAnterior)+\"\\n\")\n",
    "#file.write(\"Prediccion de la evapotranspiracion de referencia para el dia \"+fecha+\" : \"+str(prediction[0])+\"\\n\")\n",
    "file.write(\"\\n\");"
   ]
  },
  {
   "cell_type": "markdown",
   "metadata": {},
   "source": [
    "# Test"
   ]
  },
  {
   "cell_type": "code",
   "execution_count": 21,
   "metadata": {},
   "outputs": [
    {
     "name": "stdout",
     "output_type": "stream",
     "text": [
      "Prevision:  2018-04-12\n",
      "Temperatura Max: 12.0\n",
      "Temperatura Min: 5.0\n",
      "Temperatura Med: 8.5\n",
      "Humedad Max: 95.0\n",
      "Humedad Min: 60.0\n",
      "Humedad Med: 77.5\n",
      "Precipitacion: 1\n",
      "Evapotranspiracion del dia anterior: 1.734\n",
      "Prediccion de la evapotranspiracion de referencia para el dia 2018-04-12 : 1.54235123772\n",
      "\n",
      "\n",
      "Prevision:  2018-04-13\n",
      "Temperatura Max: 12.0\n",
      "Temperatura Min: 5.0\n",
      "Temperatura Med: 8.5\n",
      "Humedad Max: 95.0\n",
      "Humedad Min: 60.0\n",
      "Humedad Med: 77.5\n",
      "Precipitacion: 1\n",
      "Evapotranspiracion del dia anterior: 1.54235123772\n",
      "Prediccion de la evapotranspiracion de referencia para el dia 2018-04-13 : 1.44387723485\n",
      "\n",
      "\n",
      "Prevision:  2018-04-14\n",
      "Temperatura Max: 15.0\n",
      "Temperatura Min: 5.0\n",
      "Temperatura Med: 10.0\n",
      "Humedad Max: 95.0\n",
      "Humedad Min: 45.0\n",
      "Humedad Med: 70.0\n",
      "Precipitacion: 0\n",
      "Evapotranspiracion del dia anterior: 1.44387723485\n",
      "Prediccion de la evapotranspiracion de referencia para el dia 2018-04-14 : 1.96797059118\n",
      "\n",
      "\n",
      "Prevision:  2018-04-15\n",
      "Temperatura Max: 19.0\n",
      "Temperatura Min: 6.0\n",
      "Temperatura Med: 12.5\n",
      "Humedad Max: 85.0\n",
      "Humedad Min: 50.0\n",
      "Humedad Med: 67.5\n",
      "Precipitacion: 0\n",
      "Evapotranspiracion del dia anterior: 1.96797059118\n",
      "Prediccion de la evapotranspiracion de referencia para el dia 2018-04-15 : 2.53834295737\n",
      "\n",
      "\n",
      "Prevision:  2018-04-16\n",
      "Temperatura Max: 18.0\n",
      "Temperatura Min: 10.0\n",
      "Temperatura Med: 14.0\n",
      "Humedad Max: 90.0\n",
      "Humedad Min: 55.0\n",
      "Humedad Med: 72.5\n",
      "Precipitacion: 1\n",
      "Evapotranspiracion del dia anterior: 2.53834295737\n",
      "Prediccion de la evapotranspiracion de referencia para el dia 2018-04-16 : 2.53446709224\n",
      "\n",
      "\n"
     ]
    }
   ],
   "source": [
    "from lxml import etree\n",
    "doc = etree.parse('http://www.aemet.es/xml/municipios/localidad_45112.xml')\n",
    "raiz=doc.getroot()\n",
    "prediccion = raiz[4]\n",
    "#dia = prediccion[1] # Para coger la prevision de mañana.\n",
    "for i in range(5):\n",
    "    dia = prediccion[i+1] # Para coger la prevision de hoy.\n",
    "    fecha=dia.get('fecha')\n",
    "    temperatura=dia.find(\"temperatura\")\n",
    "    probprecipitacion=dia.find(\"prob_precipitacion\")\n",
    "    temperaturaMax=float(temperatura.find(\"maxima\").text)\n",
    "    temperaturaMin=float(temperatura.find(\"minima\").text)\n",
    "    humedad=dia.find(\"humedad_relativa\")\n",
    "    humedadMax=float(humedad.find(\"maxima\").text)\n",
    "    humedadMin=float(humedad.find(\"minima\").text)\n",
    "    humedadMed=((humedadMax)+(humedadMin))/2\n",
    "    temperaturaMed=((temperaturaMax)+(temperaturaMin))/2\n",
    "    precipitacion=int(probprecipitacion.text)\n",
    "    precipitaciondummy = 1 if precipitacion > 60 else 0\n",
    "    print(\"Prevision: \",fecha)\n",
    "    print(\"Temperatura Max:\",temperaturaMax)\n",
    "    print(\"Temperatura Min:\",temperaturaMin)\n",
    "    print(\"Temperatura Med:\",temperaturaMed)\n",
    "    print(\"Humedad Max:\",humedadMax)\n",
    "    print(\"Humedad Min:\",humedadMin)\n",
    "    print(\"Humedad Med:\",humedadMed)\n",
    "    print(\"Precipitacion:\",precipitaciondummy)\n",
    "    print(\"Evapotranspiracion del dia anterior:\",prediction[0])\n",
    "    \n",
    "    file.write(fecha+\";\")\n",
    "    file.write(str(temperaturaMax)+\";\")\n",
    "    file.write(str(temperaturaMin)+\";\")\n",
    "    file.write(str(temperaturaMed)+\";\")\n",
    "    file.write(str(humedadMax)+\";\")\n",
    "    file.write(str(humedadMin)+\";\")\n",
    "    file.write(str(humedadMed)+\";\")\n",
    "    file.write(str(precipitaciondummy)+\";\")\n",
    "    file.write(str(prediction[0])+\";\")\n",
    "    \n",
    "    \n",
    "    #file.write(\"Prevision: \"+fecha+\"\\n\")\n",
    "    #file.write(\"Temperatura Max: \"+str(temperaturaMax)+\"\\n\")\n",
    "    #file.write(\"Temperatura Min: \"+str(temperaturaMin)+\"\\n\")\n",
    "    #file.write(\"Temperatura Med: \"+str(temperaturaMed)+\"\\n\")\n",
    "    #file.write(\"Humedad Max: \"+str(humedadMax)+\"\\n\")\n",
    "    #file.write(\"Humedad Min: \"+str(humedadMin)+\"\\n\")\n",
    "    #file.write(\"Humedad Med: \"+str(humedadMed)+\"\\n\")\n",
    "    #file.write(\"Precipitacion: \"+str(precipitaciondummy)+\"\\n\")\n",
    "    #file.write(\"Evapotranspiracion del dia anterior: \"+str(prediction[0])+\"\\n\")\n",
    "    d = pd.DataFrame.from_items([(fecha,[temperaturaMed,temperaturaMax,temperaturaMin,humedadMed,humedadMax,humedadMin,precipitaciondummy,prediction])],orient='index', columns=(['Temp Media (ºC)','Temp Max (ºC)','Temp Minima (ºC)','Humedad Media (%)','Humedad Max (%)','Humedad Min (%)','Precipitación (mm)','EtPMonAnterior']))\n",
    "    d.dtypes\n",
    "    d\n",
    "    regr = linear_model.LinearRegression()\n",
    "    regr.fit(X_train, Y_train)\n",
    "    prediction = regr.predict(d)\n",
    "    print(\"Prediccion de la evapotranspiracion de referencia para el dia\",fecha,\":\",prediction[0])\n",
    "    print(\"\\n\")\n",
    "    \n",
    "    file.write(str(prediction[0]))\n",
    "    #file.write(\"Prediccion de la evapotranspiracion de referencia para el dia \"+fecha+\" : \"+str(prediction[0])+\"\\n\")\n",
    "    file.write(\"\\n\")\n",
    "\n",
    "file.close()\n"
   ]
  },
  {
   "cell_type": "code",
   "execution_count": 22,
   "metadata": {},
   "outputs": [
    {
     "data": {
      "text/html": [
       "<div>\n",
       "<style scoped>\n",
       "    .dataframe tbody tr th:only-of-type {\n",
       "        vertical-align: middle;\n",
       "    }\n",
       "\n",
       "    .dataframe tbody tr th {\n",
       "        vertical-align: top;\n",
       "    }\n",
       "\n",
       "    .dataframe thead th {\n",
       "        text-align: right;\n",
       "    }\n",
       "</style>\n",
       "<table border=\"1\" class=\"dataframe\">\n",
       "  <thead>\n",
       "    <tr style=\"text-align: right;\">\n",
       "      <th></th>\n",
       "      <th>Fecha</th>\n",
       "      <th>Temperatura Max</th>\n",
       "      <th>Temperatura Min</th>\n",
       "      <th>Temperatura Med</th>\n",
       "      <th>Humedad Max</th>\n",
       "      <th>Humedad Min</th>\n",
       "      <th>Humedad Med</th>\n",
       "      <th>Precipitacion</th>\n",
       "      <th>EvapotranspiracionAnterior</th>\n",
       "      <th>Prediccion</th>\n",
       "    </tr>\n",
       "  </thead>\n",
       "  <tbody>\n",
       "    <tr>\n",
       "      <th>0</th>\n",
       "      <td>2018-04-11</td>\n",
       "      <td>13.0</td>\n",
       "      <td>2.0</td>\n",
       "      <td>7.5</td>\n",
       "      <td>95.0</td>\n",
       "      <td>40.0</td>\n",
       "      <td>67.5</td>\n",
       "      <td>0</td>\n",
       "      <td>1.150000</td>\n",
       "      <td>1.734000</td>\n",
       "    </tr>\n",
       "    <tr>\n",
       "      <th>1</th>\n",
       "      <td>2018-04-12</td>\n",
       "      <td>12.0</td>\n",
       "      <td>5.0</td>\n",
       "      <td>8.5</td>\n",
       "      <td>95.0</td>\n",
       "      <td>60.0</td>\n",
       "      <td>77.5</td>\n",
       "      <td>1</td>\n",
       "      <td>1.734000</td>\n",
       "      <td>1.542351</td>\n",
       "    </tr>\n",
       "    <tr>\n",
       "      <th>2</th>\n",
       "      <td>2018-04-13</td>\n",
       "      <td>12.0</td>\n",
       "      <td>5.0</td>\n",
       "      <td>8.5</td>\n",
       "      <td>95.0</td>\n",
       "      <td>60.0</td>\n",
       "      <td>77.5</td>\n",
       "      <td>1</td>\n",
       "      <td>1.542351</td>\n",
       "      <td>1.443877</td>\n",
       "    </tr>\n",
       "    <tr>\n",
       "      <th>3</th>\n",
       "      <td>2018-04-14</td>\n",
       "      <td>15.0</td>\n",
       "      <td>5.0</td>\n",
       "      <td>10.0</td>\n",
       "      <td>95.0</td>\n",
       "      <td>45.0</td>\n",
       "      <td>70.0</td>\n",
       "      <td>0</td>\n",
       "      <td>1.443877</td>\n",
       "      <td>1.967971</td>\n",
       "    </tr>\n",
       "    <tr>\n",
       "      <th>4</th>\n",
       "      <td>2018-04-15</td>\n",
       "      <td>19.0</td>\n",
       "      <td>6.0</td>\n",
       "      <td>12.5</td>\n",
       "      <td>85.0</td>\n",
       "      <td>50.0</td>\n",
       "      <td>67.5</td>\n",
       "      <td>0</td>\n",
       "      <td>1.967971</td>\n",
       "      <td>2.538343</td>\n",
       "    </tr>\n",
       "    <tr>\n",
       "      <th>5</th>\n",
       "      <td>2018-04-16</td>\n",
       "      <td>18.0</td>\n",
       "      <td>10.0</td>\n",
       "      <td>14.0</td>\n",
       "      <td>90.0</td>\n",
       "      <td>55.0</td>\n",
       "      <td>72.5</td>\n",
       "      <td>1</td>\n",
       "      <td>2.538343</td>\n",
       "      <td>2.534467</td>\n",
       "    </tr>\n",
       "  </tbody>\n",
       "</table>\n",
       "</div>"
      ],
      "text/plain": [
       "        Fecha  Temperatura Max  Temperatura Min  Temperatura Med  Humedad Max  \\\n",
       "0  2018-04-11             13.0              2.0              7.5         95.0   \n",
       "1  2018-04-12             12.0              5.0              8.5         95.0   \n",
       "2  2018-04-13             12.0              5.0              8.5         95.0   \n",
       "3  2018-04-14             15.0              5.0             10.0         95.0   \n",
       "4  2018-04-15             19.0              6.0             12.5         85.0   \n",
       "5  2018-04-16             18.0             10.0             14.0         90.0   \n",
       "\n",
       "   Humedad Min  Humedad Med  Precipitacion  EvapotranspiracionAnterior  \\\n",
       "0         40.0         67.5              0                    1.150000   \n",
       "1         60.0         77.5              1                    1.734000   \n",
       "2         60.0         77.5              1                    1.542351   \n",
       "3         45.0         70.0              0                    1.443877   \n",
       "4         50.0         67.5              0                    1.967971   \n",
       "5         55.0         72.5              1                    2.538343   \n",
       "\n",
       "   Prediccion  \n",
       "0    1.734000  \n",
       "1    1.542351  \n",
       "2    1.443877  \n",
       "3    1.967971  \n",
       "4    2.538343  \n",
       "5    2.534467  "
      ]
     },
     "execution_count": 22,
     "metadata": {},
     "output_type": "execute_result"
    }
   ],
   "source": [
    "predicciones = pd.read_csv(indice,sep=';')\n",
    "predicciones"
   ]
  }
 ],
 "metadata": {
  "kernelspec": {
   "display_name": "Python 3",
   "language": "python",
   "name": "python3"
  },
  "language_info": {
   "codemirror_mode": {
    "name": "ipython",
    "version": 3
   },
   "file_extension": ".py",
   "mimetype": "text/x-python",
   "name": "python",
   "nbconvert_exporter": "python",
   "pygments_lexer": "ipython3",
   "version": "3.6.5"
  }
 },
 "nbformat": 4,
 "nbformat_minor": 2
}
